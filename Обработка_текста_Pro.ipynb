{
  "nbformat": 4,
  "nbformat_minor": 0,
  "metadata": {
    "colab": {
      "name": "Обработка текста Pro.ipynb",
      "provenance": [],
      "machine_shape": "hm",
      "authorship_tag": "ABX9TyNi5CRGCHgcaOyg9CZJNKAw",
      "include_colab_link": true
    },
    "kernelspec": {
      "name": "python3",
      "display_name": "Python 3"
    },
    "language_info": {
      "name": "python"
    },
    "accelerator": "GPU"
  },
  "cells": [
    {
      "cell_type": "markdown",
      "metadata": {
        "id": "view-in-github",
        "colab_type": "text"
      },
      "source": [
        "<a href=\"https://colab.research.google.com/github/Sergrey5571/Sergrey5571/blob/main/%D0%9E%D0%B1%D1%80%D0%B0%D0%B1%D0%BE%D1%82%D0%BA%D0%B0_%D1%82%D0%B5%D0%BA%D1%81%D1%82%D0%B0_Pro.ipynb\" target=\"_parent\"><img src=\"https://colab.research.google.com/assets/colab-badge.svg\" alt=\"Open In Colab\"/></a>"
      ]
    },
    {
      "cell_type": "markdown",
      "metadata": {
        "id": "MM0aoWBs5OmW"
      },
      "source": [
        "# Домашнее задание Pro"
      ]
    },
    {
      "cell_type": "markdown",
      "metadata": {
        "id": "vuDzRv5B5HsC"
      },
      "source": [
        "Добейтесь точности распознавания 97% и верно распознанных всех писателей с помощью любой нейронной сети. "
      ]
    },
    {
      "cell_type": "markdown",
      "metadata": {
        "id": "d4Vu4lzn5fmE"
      },
      "source": [
        "Загрузка библиотек:"
      ]
    },
    {
      "cell_type": "code",
      "metadata": {
        "id": "5gkbxGaJ42tq"
      },
      "source": [
        "import numpy as np\n",
        "import pandas as pd\n",
        "import matplotlib.pyplot as plt\n",
        "import os\n",
        "\n",
        "from tensorflow.keras import utils\n",
        "from tensorflow.keras.models import Sequential\n",
        "from tensorflow.keras.optimizers import Adam, Adadelta, SGD, RMSprop\n",
        "from tensorflow.keras.layers import Dense, Dropout,Embedding, SpatialDropout1D, BatchNormalization, Flatten, Activation\n",
        "from tensorflow.keras.preprocessing.text import Tokenizer\n",
        "from tensorflow.keras.preprocessing.sequence import pad_sequences\n",
        "\n",
        "from sklearn.preprocessing import LabelEncoder\n",
        "from sklearn.model_selection import  train_test_split\n",
        "from google.colab import files\n",
        "from google.colab import drive\n",
        "import time\n",
        "%matplotlib inline\n"
      ],
      "execution_count": null,
      "outputs": []
    },
    {
      "cell_type": "code",
      "metadata": {
        "colab": {
          "base_uri": "https://localhost:8080/"
        },
        "id": "lSE_-RU2OsA1",
        "outputId": "95dfe99e-e03a-4bfd-d541-f94c94219360"
      },
      "source": [
        "drive.mount('/content/drive')"
      ],
      "execution_count": null,
      "outputs": [
        {
          "output_type": "stream",
          "name": "stdout",
          "text": [
            "Drive already mounted at /content/drive; to attempt to forcibly remount, call drive.mount(\"/content/drive\", force_remount=True).\n"
          ]
        }
      ]
    },
    {
      "cell_type": "code",
      "metadata": {
        "id": "pM9VLllBPUIM"
      },
      "source": [
        "!unzip -q '/content/drive/MyDrive/БАЗЫ/Тексты писателей-20211108T091101Z-001.zip' -d '/content/texts'"
      ],
      "execution_count": null,
      "outputs": []
    },
    {
      "cell_type": "code",
      "metadata": {
        "id": "XZq0ozRkPt9m"
      },
      "source": [
        "def readText(fileName):\n",
        "  f = open(fileName, 'r')\n",
        "  text = f.read()\n",
        "  text = text.replace('\\n', ' ')\n",
        "  return text"
      ],
      "execution_count": null,
      "outputs": []
    },
    {
      "cell_type": "code",
      "metadata": {
        "id": "brg9cPd8Qt0t"
      },
      "source": [
        "className = ['О. Генри', 'Стругацкие', 'Булгаков', 'Саймак', 'Фрай', 'Брэдберри']\n",
        "nClasses = len(className)"
      ],
      "execution_count": null,
      "outputs": []
    },
    {
      "cell_type": "code",
      "metadata": {
        "colab": {
          "base_uri": "https://localhost:8080/"
        },
        "id": "zZMdVQjuRsjM",
        "outputId": "70c885e2-65ef-45c3-a6f3-ba73d56d684c"
      },
      "source": [
        "trainText = []\n",
        "testText = []\n",
        "for i in className:\n",
        "  for j in os.listdir('texts/Тексты писателей'):\n",
        "    if i in j:\n",
        "      if 'Обучающая' in j:\n",
        "        trainText.append(readText('texts/Тексты писателей/' + j))\n",
        "        print(j, 'Обучающая')\n",
        "      if 'Тестовая' in j:\n",
        "        testText.append(readText('texts/Тексты писателей/' + j))\n",
        "        print(j, 'Тестовая')\n",
        "  print()      "
      ],
      "execution_count": null,
      "outputs": [
        {
          "output_type": "stream",
          "name": "stdout",
          "text": [
            "(О. Генри) Обучающая_50 вместе.txt Обучающая\n",
            "(О. Генри) Тестовая_20 вместе.txt Тестовая\n",
            "\n",
            "(Стругацкие) Тестовая_2 вместе.txt Тестовая\n",
            "(Стругацкие) Обучающая_5 вместе.txt Обучающая\n",
            "\n",
            "(Булгаков) Тестовая_2 вместе.txt Тестовая\n",
            "(Булгаков) Обучающая_5 вместе.txt Обучающая\n",
            "\n",
            "(Клиффорд_Саймак) Тестовая_2 вместе.txt Тестовая\n",
            "(Клиффорд_Саймак) Обучающая_5 вместе.txt Обучающая\n",
            "\n",
            "(Макс Фрай) Обучающая_5 вместе.txt Обучающая\n",
            "(Макс Фрай) Тестовая_2 вместе.txt Тестовая\n",
            "\n",
            "(Рэй Брэдберри) Обучающая_22 вместе.txt Обучающая\n",
            "(Рэй Брэдберри) Тестовая_8 вместе.txt Тестовая\n",
            "\n"
          ]
        }
      ]
    },
    {
      "cell_type": "code",
      "metadata": {
        "colab": {
          "base_uri": "https://localhost:8080/"
        },
        "id": "jX6LhsVHewaz",
        "outputId": "61a7473e-c5b3-4a64-aab1-80e6cacde978"
      },
      "source": [
        "maxWordsCount = 20000  \n",
        "tokenizer = Tokenizer(num_words=maxWordsCount, filters='!\"#$%&()*+,-./:;<=>?@[\\\\]^_`{|}~\\t\\n\\xa0\\ufeff',\n",
        "                      lower=True, split=' ', oov_token = 'unknown', char_level = False)\n",
        "tokenizer.fit_on_texts(trainText)\n",
        "items = list(tokenizer.word_index.items())\n",
        "print(len(items))\n",
        "print(items[2001:2015])"
      ],
      "execution_count": null,
      "outputs": [
        {
          "output_type": "stream",
          "name": "stdout",
          "text": [
            "144136\n",
            "[('попробовать', 2002), ('вашем', 2003), ('работал', 2004), ('замолчал', 2005), ('видит', 2006), ('спорить', 2007), ('старой', 2008), ('послать', 2009), ('смотрю', 2010), ('поезд', 2011), ('гордо', 2012), ('каждому', 2013), ('ответа', 2014), ('случаях', 2015)]\n"
          ]
        }
      ]
    },
    {
      "cell_type": "code",
      "metadata": {
        "id": "R-NeNeAMkM39"
      },
      "source": [
        "trainWordIndexes = tokenizer.texts_to_sequences(trainText)\n",
        "testWordIndexes = tokenizer.texts_to_sequences(testText)"
      ],
      "execution_count": null,
      "outputs": []
    },
    {
      "cell_type": "code",
      "metadata": {
        "colab": {
          "base_uri": "https://localhost:8080/"
        },
        "id": "9-K8vyKfmT9l",
        "outputId": "bd43ff15-7021-47d5-e77e-d505d44ad3ac"
      },
      "source": [
        "print(trainText[4][20:80])\n",
        "print(trainWordIndexes[2][30:50])"
      ],
      "execution_count": null,
      "outputs": [
        {
          "output_type": "stream",
          "name": "stdout",
          "text": [
            "   – С тех пор как меня угораздило побывать в этой грешной Ч\n",
            "[2837, 7, 51, 1, 7, 1174, 1, 7, 1676, 1, 1616, 1, 1, 2, 1, 96, 3425, 933, 19, 1]\n"
          ]
        }
      ]
    },
    {
      "cell_type": "code",
      "metadata": {
        "id": "u3_GZ4uwnWWo"
      },
      "source": [
        "def getSetFromIndexes(wordIndexes, xlen, step): # образуем цепочки xLen с шагом step\n",
        "  xSample = []\n",
        "  wordslen = len(wordIndexes)\n",
        "  index = 0\n",
        "  while (index + xlen <= wordslen):\n",
        "    xSample.append(wordIndexes[index:index + xlen])\n",
        "    index+=step\n",
        "  return xSample"
      ],
      "execution_count": null,
      "outputs": []
    },
    {
      "cell_type": "code",
      "metadata": {
        "id": "_OeyRXx9vmT7"
      },
      "source": [
        "def createSetMultiClasses(wordIndexes, xlen, step):\n",
        "  nClasses = len(wordIndexes)\n",
        "  classesXSample = []\n",
        "  for WI in wordIndexes:\n",
        "    classesXSample.append(getSetFromIndexes(WI, xlen, step))\n",
        "  xSamples = []\n",
        "  ySamples = []\n",
        "  for t in range(nClasses):\n",
        "    xT = classesXSample[t]\n",
        "    for i in range(len(xT)):\n",
        "      xSamples.append(xT[i])\n",
        "      ySamples.append(utils.to_categorical(t, nClasses))\n",
        "  xSamples = np.array(xSamples)\n",
        "  ySamples = np.array(ySamples)\n",
        "  return (xSamples, ySamples)"
      ],
      "execution_count": null,
      "outputs": []
    },
    {
      "cell_type": "code",
      "metadata": {
        "id": "-79XMg28Sqoi"
      },
      "source": [
        ""
      ],
      "execution_count": null,
      "outputs": []
    },
    {
      "cell_type": "code",
      "metadata": {
        "colab": {
          "base_uri": "https://localhost:8080/"
        },
        "id": "oelI7fPcz60G",
        "outputId": "25415f85-a30a-46d1-fa66-c10d6077c0c2"
      },
      "source": [
        "xLen = 8000\n",
        "step = 100\n",
        "xTrain, yTrain = createSetMultiClasses(trainWordIndexes, xLen, step)\n",
        "xTest, yTest = createSetMultiClasses(testWordIndexes, xLen, step)\n",
        "print(xTrain.shape)\n",
        "print(xTest.shape)\n",
        "print(yTrain.shape)\n",
        "print(yTest.shape)\n",
        "print(xTrain.size)"
      ],
      "execution_count": null,
      "outputs": [
        {
          "output_type": "stream",
          "name": "stdout",
          "text": [
            "(18088, 8000)\n",
            "(6611, 8000)\n",
            "(18088, 6)\n",
            "(6611, 6)\n",
            "144704000\n"
          ]
        }
      ]
    },
    {
      "cell_type": "code",
      "metadata": {
        "colab": {
          "base_uri": "https://localhost:8080/"
        },
        "id": "V9bMRMPp4ERB",
        "outputId": "f7cd1b16-1490-4270-935e-55a2014381d2"
      },
      "source": [
        "xTrain_1 = tokenizer.sequences_to_matrix(xTrain.tolist())\n",
        "xTest_1 = tokenizer.sequences_to_matrix(xTest.tolist())\n",
        "print(xTrain_1.shape)\n",
        "print(xTrain_1[1][:80])"
      ],
      "execution_count": null,
      "outputs": [
        {
          "output_type": "stream",
          "name": "stdout",
          "text": [
            "(18088, 20000)\n",
            "[0. 1. 1. 0. 1. 1. 1. 1. 1. 1. 1. 1. 1. 1. 1. 1. 1. 1. 1. 1. 1. 1. 1. 1.\n",
            " 1. 1. 1. 1. 1. 1. 1. 1. 1. 1. 1. 1. 1. 1. 1. 1. 1. 1. 1. 1. 1. 1. 1. 1.\n",
            " 1. 1. 1. 1. 1. 1. 1. 1. 1. 1. 1. 1. 1. 1. 1. 1. 1. 1. 1. 1. 1. 1. 1. 1.\n",
            " 1. 0. 1. 1. 0. 1. 1. 1.]\n"
          ]
        }
      ]
    },
    {
      "cell_type": "markdown",
      "metadata": {
        "id": "a0YOpNik6UMd"
      },
      "source": [
        "# моделька:"
      ]
    },
    {
      "cell_type": "code",
      "metadata": {
        "id": "Ret4eCbn6RHN"
      },
      "source": [
        "model = Sequential()\n",
        "model.add(Dense(256, input_dim = maxWordsCount, activation='relu'))\n",
        "model.add(Dropout(0.2))\n",
        "model.add(Dense(128, activation='relu'))\n",
        "model.add(Dense(6, activation = 'softmax'))\n",
        "model.compile(loss='categorical_crossentropy', optimizer = Adadelta(learning_rate=0.2), metrics = ['accuracy'])"
      ],
      "execution_count": null,
      "outputs": []
    },
    {
      "cell_type": "code",
      "metadata": {
        "colab": {
          "base_uri": "https://localhost:8080/"
        },
        "id": "uzjLELUGCSJL",
        "outputId": "b0794925-76b2-4b32-dcb7-ca701b46dafa"
      },
      "source": [
        "model.summary()"
      ],
      "execution_count": null,
      "outputs": [
        {
          "output_type": "stream",
          "name": "stdout",
          "text": [
            "Model: \"sequential_14\"\n",
            "_________________________________________________________________\n",
            " Layer (type)                Output Shape              Param #   \n",
            "=================================================================\n",
            " dense_39 (Dense)            (None, 256)               5120256   \n",
            "                                                                 \n",
            " dropout_9 (Dropout)         (None, 256)               0         \n",
            "                                                                 \n",
            " dense_40 (Dense)            (None, 128)               32896     \n",
            "                                                                 \n",
            " dense_41 (Dense)            (None, 6)                 774       \n",
            "                                                                 \n",
            "=================================================================\n",
            "Total params: 5,153,926\n",
            "Trainable params: 5,153,926\n",
            "Non-trainable params: 0\n",
            "_________________________________________________________________\n"
          ]
        }
      ]
    },
    {
      "cell_type": "code",
      "metadata": {
        "colab": {
          "base_uri": "https://localhost:8080/"
        },
        "id": "QzZqaiFR8rDX",
        "outputId": "982446cd-e793-460b-fab3-b04b0c03dac7"
      },
      "source": [
        "history = model.fit(xTrain_1, yTrain, batch_size=192, epochs=10, validation_data=(xTest_1, yTest))"
      ],
      "execution_count": null,
      "outputs": [
        {
          "output_type": "stream",
          "name": "stdout",
          "text": [
            "Epoch 1/10\n",
            "95/95 [==============================] - 1s 16ms/step - loss: 1.4931e-05 - accuracy: 1.0000 - val_loss: 0.1345 - val_accuracy: 0.9738\n",
            "Epoch 2/10\n",
            "95/95 [==============================] - 1s 11ms/step - loss: 1.5301e-05 - accuracy: 1.0000 - val_loss: 0.1321 - val_accuracy: 0.9752\n",
            "Epoch 3/10\n",
            "95/95 [==============================] - 1s 11ms/step - loss: 1.5458e-05 - accuracy: 1.0000 - val_loss: 0.1314 - val_accuracy: 0.9752\n",
            "Epoch 4/10\n",
            "95/95 [==============================] - 1s 11ms/step - loss: 1.5262e-05 - accuracy: 1.0000 - val_loss: 0.1309 - val_accuracy: 0.9750\n",
            "Epoch 5/10\n",
            "95/95 [==============================] - 1s 10ms/step - loss: 1.4371e-05 - accuracy: 1.0000 - val_loss: 0.1312 - val_accuracy: 0.9749\n",
            "Epoch 6/10\n",
            "95/95 [==============================] - 1s 11ms/step - loss: 1.3502e-05 - accuracy: 1.0000 - val_loss: 0.1309 - val_accuracy: 0.9746\n",
            "Epoch 7/10\n",
            "95/95 [==============================] - 1s 11ms/step - loss: 1.4205e-05 - accuracy: 1.0000 - val_loss: 0.1311 - val_accuracy: 0.9744\n",
            "Epoch 8/10\n",
            "95/95 [==============================] - 1s 11ms/step - loss: 1.3012e-05 - accuracy: 1.0000 - val_loss: 0.1305 - val_accuracy: 0.9747\n",
            "Epoch 9/10\n",
            "95/95 [==============================] - 1s 11ms/step - loss: 1.3736e-05 - accuracy: 1.0000 - val_loss: 0.1293 - val_accuracy: 0.9746\n",
            "Epoch 10/10\n",
            "95/95 [==============================] - 1s 10ms/step - loss: 1.3342e-05 - accuracy: 1.0000 - val_loss: 0.1289 - val_accuracy: 0.9749\n"
          ]
        }
      ]
    },
    {
      "cell_type": "code",
      "metadata": {
        "colab": {
          "base_uri": "https://localhost:8080/",
          "height": 760
        },
        "id": "RqPTXS8099k_",
        "outputId": "656b187c-38ae-4c95-830c-f129d35a795c"
      },
      "source": [
        "plt.figure(figsize=(14,6))\n",
        "plt.plot(history.history['accuracy'], '--', label = ' Обучение')\n",
        "plt.plot(history.history['val_accuracy'], label = 'Проверка')\n",
        "plt.xlabel('Эпохи')\n",
        "plt.ylabel('Доля верных ответов')\n",
        "plt.legend()\n",
        "plt.show()\n",
        "plt.figure(figsize=(14,6))\n",
        "plt.plot(history.history['loss'], '--', label = 'ошибка на обучении')\n",
        "plt.plot(history.history['val_loss'], label = 'ошибка на проверке')\n",
        "plt.xlabel('epochs')\n",
        "plt.ylabel('доля верных ответов')\n",
        "plt.legend()\n",
        "plt.show()"
      ],
      "execution_count": null,
      "outputs": [
        {
          "output_type": "display_data",
          "data": {
            "image/png": "[encoded data removed]",
            "text/plain": [
              "<Figure size 1008x432 with 1 Axes>"
            ]
          },
          "metadata": {
            "needs_background": "light"
          }
        },
        {
          "output_type": "display_data",
          "data": {
            "image/png": "[encoded data removed]",
            "text/plain": [
              "<Figure size 1008x432 with 1 Axes>"
            ]
          },
          "metadata": {
            "needs_background": "light"
          }
        }
      ]
    },
    {
      "cell_type": "code",
      "metadata": {
        "id": "stHRW8-4mf7G"
      },
      "source": [
        " #тестовая выборка в удобных для распознавания размерах\n",
        "def createTestMultiClasses(wordIndexes, xLen, step): \n",
        "  nClasses = len(wordIndexes) \n",
        "  xTest6Classes01 = []              \n",
        "  xTest6Classes = []                 \n",
        "  for wI in wordIndexes:                       \n",
        "    sample = (getSetFromIndexes(wI, xLen, step)) \n",
        "    xTest6Classes.append(sample)              \n",
        "    xTest6Classes01.append(tokenizer.sequences_to_matrix(sample)) \n",
        "  xTest6Classes01 = np.array(xTest6Classes01)                     \n",
        "  xTest6Classes = np.array(xTest6Classes)                   \n",
        "  \n",
        "  return xTest6Classes01, xTest6Classes  \n",
        "\n",
        "# Распознаём тестовую выборку и выводим результаты\n",
        "def recognizeMultiClass(model, xTest, modelName):\n",
        "  print(\"НЕЙРОНКА: \", modelName)\n",
        "  print()\n",
        "  \n",
        "  totalSumRec = 0 \n",
        "  \n",
        "  for i in range(nClasses):\n",
        "    currPred = model.predict(xTest[i])\n",
        "    currOut = np.argmax(currPred, axis=1)\n",
        "    evVal = []\n",
        "    for j in range(nClasses):\n",
        "      evVal.append(len(currOut[currOut==j])/len(xTest[i]))\n",
        "    totalSumRec += len(currOut[currOut==i])\n",
        "    recognizedClass = np.argmax(evVal) \n",
        "    \n",
        "    #по текущему классу\n",
        "    isRecognized = \"Это НЕПРАВИЛЬНЫЙ ответ!\"\n",
        "    if (recognizedClass == i):\n",
        "      isRecognized = \"Это ПРАВИЛЬНЫЙ ответ!\"\n",
        "    str1 = 'Класс: ' + className[i] + \" \" * (11 - len(className[i])) + str(int(100*evVal[i])) + \"% сеть отнесла к классу \" + className[recognizedClass]\n",
        "    print(str1, \" \" * (55-len(str1)), isRecognized, sep='')\n",
        "  \n",
        "  #Выводим средний процент \n",
        "  print()\n",
        "  sumCount = 0\n",
        "  for i in range(nClasses):\n",
        "    sumCount += len(xTest[i])\n",
        "  print(\"Средний процент распознавания \", int(100*totalSumRec/sumCount), \"%\", sep='')\n",
        "\n",
        "  print()\n",
        "  \n",
        "  return totalSumRec/sumCount"
      ],
      "execution_count": null,
      "outputs": []
    },
    {
      "cell_type": "code",
      "metadata": {
        "id": "ndLp3wDn7Kr2",
        "colab": {
          "base_uri": "https://localhost:8080/"
        },
        "outputId": "45db8475-e2d7-45dd-bf94-6bbf800e5c8f"
      },
      "source": [
        "pred = recognizeMultiClass(model, xTest6Classes01, \"Тексты 01 + Dense\") #Преобразование тестовой выборки"
      ],
      "execution_count": null,
      "outputs": [
        {
          "output_type": "stream",
          "name": "stderr",
          "text": [
            "/usr/local/lib/python3.7/dist-packages/ipykernel_launcher.py:13: VisibleDeprecationWarning: Creating an ndarray from ragged nested sequences (which is a list-or-tuple of lists-or-tuples-or ndarrays with different lengths or shapes) is deprecated. If you meant to do this, you must specify 'dtype=object' when creating the ndarray\n",
            "  del sys.path[0]\n",
            "/usr/local/lib/python3.7/dist-packages/ipykernel_launcher.py:14: VisibleDeprecationWarning: Creating an ndarray from ragged nested sequences (which is a list-or-tuple of lists-or-tuples-or ndarrays with different lengths or shapes) is deprecated. If you meant to do this, you must specify 'dtype=object' when creating the ndarray\n",
            "  \n"
          ]
        }
      ]
    },
    {
      "cell_type": "code",
      "metadata": {
        "id": "SP117ptGhzOj"
      },
      "source": [
        "l = np.array(xTest6Classes01)\n",
        "np.save('xTestPredictBoW', l)\n",
        "np.save('xTestPredictEmbedding', x2)"
      ],
      "execution_count": null,
      "outputs": []
    },
    {
      "cell_type": "code",
      "metadata": {
        "id": "wMxCLf_Vi5yY",
        "colab": {
          "base_uri": "https://localhost:8080/"
        },
        "outputId": "cb739fcf-c161-42ba-c9d6-bb8803917ab5"
      },
      "source": [
        "#Проверяем точность \n",
        "pred = recognizeMultiClass(model, xTest6Classes01, \"Тексты 01 + Dense\")"
      ],
      "execution_count": null,
      "outputs": [
        {
          "output_type": "stream",
          "name": "stdout",
          "text": [
            "НЕЙРОНКА:  Тексты 01 + Dense\n",
            "\n",
            "Класс: О. Генри   100% сеть отнесла к классу О. Генри  Это ПРАВИЛЬНЫЙ ответ!\n",
            "Класс: Стругацкие 94% сеть отнесла к классу Стругацкие Это ПРАВИЛЬНЫЙ ответ!\n",
            "Класс: Булгаков   97% сеть отнесла к классу Булгаков   Это ПРАВИЛЬНЫЙ ответ!\n",
            "Класс: Саймак     100% сеть отнесла к классу Саймак    Это ПРАВИЛЬНЫЙ ответ!\n",
            "Класс: Фрай       95% сеть отнесла к классу Фрай       Это ПРАВИЛЬНЫЙ ответ!\n",
            "Класс: Брэдберри  100% сеть отнесла к классу Брэдберри Это ПРАВИЛЬНЫЙ ответ!\n",
            "\n",
            "Средний процент распознавания 97%\n",
            "\n"
          ]
        }
      ]
    },
    {
      "cell_type": "code",
      "metadata": {
        "id": "t9pH4D5poJDz"
      },
      "source": [
        ""
      ],
      "execution_count": null,
      "outputs": []
    }
  ]
}