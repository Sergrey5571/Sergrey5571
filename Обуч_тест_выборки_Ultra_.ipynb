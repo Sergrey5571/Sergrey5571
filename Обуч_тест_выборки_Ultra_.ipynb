{
  "nbformat": 4,
  "nbformat_minor": 0,
  "metadata": {
    "colab": {
      "name": "Обуч. тест выборки. Ultra .ipynb",
      "provenance": [],
      "authorship_tag": "ABX9TyPT6hgdS1Q4grHYKZRvDuG/",
      "include_colab_link": true
    },
    "kernelspec": {
      "name": "python3",
      "display_name": "Python 3"
    },
    "language_info": {
      "name": "python"
    }
  },
  "cells": [
    {
      "cell_type": "markdown",
      "metadata": {
        "id": "view-in-github",
        "colab_type": "text"
      },
      "source": [
        "<a href=\"https://colab.research.google.com/github/Sergrey5571/Sergrey5571/blob/main/%D0%9E%D0%B1%D1%83%D1%87_%D1%82%D0%B5%D1%81%D1%82_%D0%B2%D1%8B%D0%B1%D0%BE%D1%80%D0%BA%D0%B8_Ultra_.ipynb\" target=\"_parent\"><img src=\"https://colab.research.google.com/assets/colab-badge.svg\" alt=\"Open In Colab\"/></a>"
      ]
    },
    {
      "cell_type": "markdown",
      "metadata": {
        "id": "tF-9m1Jk5uqU"
      },
      "source": [
        "# Домашнее задание Ultra Pro :"
      ]
    },
    {
      "cell_type": "markdown",
      "metadata": {
        "id": "vCR1jrI76gJG"
      },
      "source": [
        "По подготовленным на занятии данным, создайте обучающую, тестовую и проверочную выборки. \n",
        "\n",
        "По сформированным данным необходимо обучить модель для предсказания цены машины. Оцените качество работы созданной сети, определив средний процент ошибки на проверочной выборке. (Для этого потребуется привести предсказанные моделью значения к первоначальному диапазону цен. Это можно сделать с помощью следующего метода:\n",
        "\n",
        "predict_inverse = y_scaler.inverse_transform(predict).flatten()\n",
        "\n",
        "где predict - результат предсказания модели).\n",
        "\n",
        "Затем подсчитайте среднюю ошибку на тестовой выборке, среднюю цену и средний процент ошибки.\n",
        "\n",
        "Рекомендации:\n",
        "\n",
        "В качестве ошибки рекомендуется использовать среднеквадратическую ошибку (mse).\n",
        "Метрику для данной задачи можно не использовать.\n",
        "Последний слой модели должен иметь 1 нейрон."
      ]
    },
    {
      "cell_type": "code",
      "metadata": {
        "id": "ONLNGHto4bHC"
      },
      "source": [
        "from tensorflow.keras.models import Sequential # НС прямого распространения\n",
        "from tensorflow.keras.layers import Dense, Activation, Dropout, BatchNormalization # Основные слои\n",
        "from tensorflow.keras import utils # Утилиты для to_categorical\n",
        "from tensorflow.keras.preprocessing import image # Для отрисовки изображения\n",
        "from tensorflow.keras.optimizers import Adam, Adadelta # Алгоритмы оптимизации, для настройки скорости обучения\n",
        "import numpy as np # Библиотека работы с массивами\n",
        "import matplotlib.pyplot as plt # Отрисовка изображений\n",
        "from sklearn.model_selection import train_test_split\n",
        "from PIL import Image # Отрисовка изображений\n",
        "import pandas as pd # Библиотека pandas\n",
        "from google.colab import files # Импорт файлов\n",
        "from sklearn.preprocessing import LabelEncoder, StandardScaler # Функции для нормализации данных\n",
        "from sklearn import preprocessing # Пакет предварительной обработки данных\n",
        "\n",
        "# Отрисовывать изображения в ноутбуке, а не в консоль или файл\n",
        "%matplotlib inline"
      ],
      "execution_count": null,
      "outputs": []
    },
    {
      "cell_type": "code",
      "metadata": {
        "colab": {
          "base_uri": "https://localhost:8080/"
        },
        "id": "jBJ4Upf89Vqe",
        "outputId": "f1896d19-6690-4c77-bab2-39cc678f13b3"
      },
      "source": [
        "from google.colab import drive\n",
        "drive.mount('/content/drive')"
      ],
      "execution_count": null,
      "outputs": [
        {
          "output_type": "stream",
          "name": "stdout",
          "text": [
            "Mounted at /content/drive\n"
          ]
        }
      ]
    },
    {
      "cell_type": "code",
      "metadata": {
        "id": "odHF4gla-fSF"
      },
      "source": [
        "cars=pd.read_csv('/content/drive/MyDrive/cars_new.csv')"
      ],
      "execution_count": null,
      "outputs": []
    },
    {
      "cell_type": "code",
      "metadata": {
        "colab": {
          "base_uri": "https://localhost:8080/",
          "height": 204
        },
        "id": "m9qhYWqA-vJL",
        "outputId": "d4ff46e7-0d59-497e-a951-2fab19210e23"
      },
      "source": [
        "cars[:5]"
      ],
      "execution_count": null,
      "outputs": [
        {
          "output_type": "execute_result",
          "data": {
            "text/html": [
              "<div>\n",
              "<style scoped>\n",
              "    .dataframe tbody tr th:only-of-type {\n",
              "        vertical-align: middle;\n",
              "    }\n",
              "\n",
              "    .dataframe tbody tr th {\n",
              "        vertical-align: top;\n",
              "    }\n",
              "\n",
              "    .dataframe thead th {\n",
              "        text-align: right;\n",
              "    }\n",
              "</style>\n",
              "<table border=\"1\" class=\"dataframe\">\n",
              "  <thead>\n",
              "    <tr style=\"text-align: right;\">\n",
              "      <th></th>\n",
              "      <th>mark</th>\n",
              "      <th>model</th>\n",
              "      <th>price</th>\n",
              "      <th>year</th>\n",
              "      <th>mileage</th>\n",
              "      <th>body</th>\n",
              "      <th>kpp</th>\n",
              "      <th>fuel</th>\n",
              "      <th>volume</th>\n",
              "      <th>power</th>\n",
              "    </tr>\n",
              "  </thead>\n",
              "  <tbody>\n",
              "    <tr>\n",
              "      <th>0</th>\n",
              "      <td>kia</td>\n",
              "      <td>cerato</td>\n",
              "      <td>996000</td>\n",
              "      <td>2018</td>\n",
              "      <td>28000</td>\n",
              "      <td>седан</td>\n",
              "      <td>автомат</td>\n",
              "      <td>бензин</td>\n",
              "      <td>2.0</td>\n",
              "      <td>150.0</td>\n",
              "    </tr>\n",
              "    <tr>\n",
              "      <th>1</th>\n",
              "      <td>daewoo</td>\n",
              "      <td>nexia 1 поколение [2-й рестайлинг]</td>\n",
              "      <td>140200</td>\n",
              "      <td>2012</td>\n",
              "      <td>60500</td>\n",
              "      <td>седан</td>\n",
              "      <td>механика</td>\n",
              "      <td>бензин</td>\n",
              "      <td>1.5</td>\n",
              "      <td>80.0</td>\n",
              "    </tr>\n",
              "    <tr>\n",
              "      <th>2</th>\n",
              "      <td>suzuki</td>\n",
              "      <td>jimny 3 поколение [рестайлинг]</td>\n",
              "      <td>750000</td>\n",
              "      <td>2011</td>\n",
              "      <td>29000</td>\n",
              "      <td>внедорожник</td>\n",
              "      <td>автомат</td>\n",
              "      <td>бензин</td>\n",
              "      <td>1.3</td>\n",
              "      <td>85.0</td>\n",
              "    </tr>\n",
              "    <tr>\n",
              "      <th>3</th>\n",
              "      <td>bmw</td>\n",
              "      <td>x1 18 e84 [рестайлинг]</td>\n",
              "      <td>970000</td>\n",
              "      <td>2014</td>\n",
              "      <td>49500</td>\n",
              "      <td>кроссовер</td>\n",
              "      <td>автомат</td>\n",
              "      <td>бензин</td>\n",
              "      <td>2.0</td>\n",
              "      <td>150.0</td>\n",
              "    </tr>\n",
              "    <tr>\n",
              "      <th>4</th>\n",
              "      <td>chevrolet</td>\n",
              "      <td>lacetti 1 поколение</td>\n",
              "      <td>205000</td>\n",
              "      <td>2007</td>\n",
              "      <td>151445</td>\n",
              "      <td>седан</td>\n",
              "      <td>механика</td>\n",
              "      <td>бензин</td>\n",
              "      <td>1.4</td>\n",
              "      <td>95.0</td>\n",
              "    </tr>\n",
              "  </tbody>\n",
              "</table>\n",
              "</div>"
            ],
            "text/plain": [
              "        mark                               model   price  ...    fuel  volume  power\n",
              "0        kia                              cerato  996000  ...  бензин     2.0  150.0\n",
              "1     daewoo  nexia 1 поколение [2-й рестайлинг]  140200  ...  бензин     1.5   80.0\n",
              "2     suzuki      jimny 3 поколение [рестайлинг]  750000  ...  бензин     1.3   85.0\n",
              "3        bmw              x1 18 e84 [рестайлинг]  970000  ...  бензин     2.0  150.0\n",
              "4  chevrolet                 lacetti 1 поколение  205000  ...  бензин     1.4   95.0\n",
              "\n",
              "[5 rows x 10 columns]"
            ]
          },
          "metadata": {},
          "execution_count": 5
        }
      ]
    },
    {
      "cell_type": "code",
      "metadata": {
        "colab": {
          "base_uri": "https://localhost:8080/"
        },
        "id": "ZjnhQOK3IO8c",
        "outputId": "77a6bbf7-d67e-4084-c376-781bfa698bf7"
      },
      "source": [
        "cars['price'].max()"
      ],
      "execution_count": null,
      "outputs": [
        {
          "output_type": "execute_result",
          "data": {
            "text/plain": [
              "24500000"
            ]
          },
          "metadata": {},
          "execution_count": 6
        }
      ]
    },
    {
      "cell_type": "code",
      "metadata": {
        "colab": {
          "base_uri": "https://localhost:8080/"
        },
        "id": "AcyBnsBbApbF",
        "outputId": "f323afcc-3660-4dcb-bdc3-6a8c415786c6"
      },
      "source": [
        "print(cars.values.shape)"
      ],
      "execution_count": null,
      "outputs": [
        {
          "output_type": "stream",
          "name": "stdout",
          "text": [
            "(70119, 10)\n"
          ]
        }
      ]
    },
    {
      "cell_type": "markdown",
      "metadata": {
        "id": "VYpi_2JMI7_9"
      },
      "source": [
        "словарик:"
      ]
    },
    {
      "cell_type": "code",
      "metadata": {
        "id": "cYSopBVkA_Dz"
      },
      "source": [
        "def create_dict(s):\n",
        "  ret={}\n",
        "  for _id, name in enumerate(s): # каждому ун. значению присвается индекс\n",
        "    ret.update({name:_id})\n",
        "  return ret  "
      ],
      "execution_count": null,
      "outputs": []
    },
    {
      "cell_type": "markdown",
      "metadata": {
        "id": "wgRbzyMkLL9m"
      },
      "source": [
        "преобразование :"
      ]
    },
    {
      "cell_type": "code",
      "metadata": {
        "id": "J64SsoqdLIu4"
      },
      "source": [
        "def to_ohe(value, d):\n",
        "  arr=[0]*len(d)\n",
        "  arr[d[value]]=1\n",
        "  return arr"
      ],
      "execution_count": null,
      "outputs": []
    },
    {
      "cell_type": "markdown",
      "metadata": {
        "id": "8iExVgoDRHjH"
      },
      "source": [
        "словари по колонкам:"
      ]
    },
    {
      "cell_type": "code",
      "metadata": {
        "id": "4aJHKv15RNBX"
      },
      "source": [
        "marks_dict= create_dict(set(cars['mark']))\n",
        "models_dict= create_dict(set(cars['model']))\n",
        "bodies_dict=create_dict(set(cars['body']))\n",
        "kpps_dict=create_dict(set(cars['kpp']))\n",
        "fuels_dict=create_dict(set(cars['fuel']))"
      ],
      "execution_count": null,
      "outputs": []
    },
    {
      "cell_type": "markdown",
      "metadata": {
        "id": "w5AkVaNnTtyA"
      },
      "source": [
        "цены на машины:"
      ]
    },
    {
      "cell_type": "code",
      "metadata": {
        "id": "WQzbHWAJTD5Z"
      },
      "source": [
        "prices = np.array(cars['price'], dtype=np.float)"
      ],
      "execution_count": null,
      "outputs": []
    },
    {
      "cell_type": "code",
      "metadata": {
        "id": "XJeD--_iTsbn"
      },
      "source": [
        "years= preprocessing.scale(cars['year'])\n",
        "mileages=preprocessing.scale(cars['mileage'])\n",
        "volumes= preprocessing.scale(cars['volume'])\n",
        "powers= preprocessing.scale(cars['power'])"
      ],
      "execution_count": null,
      "outputs": []
    },
    {
      "cell_type": "markdown",
      "metadata": {
        "id": "xbkm56dPfVMO"
      },
      "source": [
        "пустая выборка:"
      ]
    },
    {
      "cell_type": "code",
      "metadata": {
        "id": "fq_m4WUny4k3"
      },
      "source": [
        "x_train = []\n",
        "y_train = []\n",
        "\n",
        "#  по всем машинам\n",
        "for _id, car in enumerate(np.array(cars)):\n",
        "  # В y_train добавляем цену\n",
        "  y_train.append(prices[_id]) \n",
        "  x_tr = to_ohe(car[0], marks_dict) + \\\n",
        "        to_ohe(car[1], models_dict) + \\\n",
        "        to_ohe(car[5], bodies_dict) + \\\n",
        "        to_ohe(car[6], kpps_dict) + \\\n",
        "        to_ohe(car[7], fuels_dict) + \\\n",
        "        [years[_id]] + \\\n",
        "        [mileages[_id]] + \\\n",
        "        [volumes[_id]] + \\\n",
        "        [powers[_id]]\n",
        "  x_train.append(x_tr)\n",
        "\n",
        "# Превращаем лист в numpy.array\n",
        "x_train = np.array(x_train, dtype=np.float)\n",
        "y_train = np.array(y_train, dtype=np.float)"
      ],
      "execution_count": null,
      "outputs": []
    },
    {
      "cell_type": "markdown",
      "metadata": {
        "id": "QF9keRxXpi0J"
      },
      "source": [
        "хм.. "
      ]
    },
    {
      "cell_type": "code",
      "metadata": {
        "colab": {
          "base_uri": "https://localhost:8080/"
        },
        "id": "fi4J0-UPsFJ3",
        "outputId": "8e176c84-615f-4b9a-c0de-9efedcda7f2f"
      },
      "source": [
        "print(x_train.shape)\n",
        "print(y_train.shape)"
      ],
      "execution_count": null,
      "outputs": [
        {
          "output_type": "stream",
          "name": "stdout",
          "text": [
            "(70119, 3208)\n",
            "(70119,)\n"
          ]
        }
      ]
    },
    {
      "cell_type": "markdown",
      "metadata": {
        "id": "Ezlnlnw7xUBT"
      },
      "source": [
        "опять новое в Python:"
      ]
    },
    {
      "cell_type": "code",
      "metadata": {
        "id": "DJRA8bUwxbUD"
      },
      "source": [
        "y_scaler=StandardScaler() # из библиотеки Sklearn конструктор маштабирования\n",
        "y_train_scaled = y_scaler.fit_transform(y_train.reshape(-1,1)).flatten() #  не забывать скобки\n"
      ],
      "execution_count": null,
      "outputs": []
    },
    {
      "cell_type": "code",
      "metadata": {
        "colab": {
          "base_uri": "https://localhost:8080/"
        },
        "id": "5ixXJ9ke0D9h",
        "outputId": "27ccfb20-eee4-4cd4-9a26-aaf0997e26c7"
      },
      "source": [
        "y_train_scaled.shape"
      ],
      "execution_count": null,
      "outputs": [
        {
          "output_type": "execute_result",
          "data": {
            "text/plain": [
              "(70119,)"
            ]
          },
          "metadata": {},
          "execution_count": 16
        }
      ]
    },
    {
      "cell_type": "code",
      "metadata": {
        "colab": {
          "base_uri": "https://localhost:8080/"
        },
        "id": "Hyp8j9Qr0eWJ",
        "outputId": "0401741e-98b7-4bb9-fd72-c8cca9f4ec02"
      },
      "source": [
        "print(y_train_scaled[:15])"
      ],
      "execution_count": null,
      "outputs": [
        {
          "output_type": "stream",
          "name": "stdout",
          "text": [
            "[ 0.75082432 -0.62135434  0.3563911   0.70913625 -0.51745486  0.73318706\n",
            "  0.09824578 -0.04445567  1.27032173 -0.4132347  -0.38116696 -0.37315002\n",
            " -0.44530244 -0.08624635  0.19605239]\n"
          ]
        }
      ]
    },
    {
      "cell_type": "code",
      "metadata": {
        "id": "MNchpj0Z9G2a"
      },
      "source": [
        "x_train, x_test, y_train_scaled, y_test = train_test_split(x_train, y_train_scaled, test_size=0.2)"
      ],
      "execution_count": null,
      "outputs": []
    },
    {
      "cell_type": "code",
      "metadata": {
        "colab": {
          "base_uri": "https://localhost:8080/"
        },
        "id": "g0STRCve4Kjo",
        "outputId": "c0c48258-c395-486e-9485-0f2408cad3a5"
      },
      "source": [
        "model_ula = Sequential()\n",
        "model_ula.add(Dense(300, activation = 'relu', input_shape = x_train.shape[1:]))\n",
        "model_ula.add(Dense(100, activation = 'relu'))\n",
        "model_ula.add(Dense(1))\n",
        "model_ula.compile(optimizer = 'adam', loss = 'mse', metrics = ['mae'])\n",
        "# поехали!\n",
        "model_ula.fit(x_train, y_train_scaled, epochs = 20, batch_size = 32, validation_split = 0.1)\n",
        "\n",
        "predict = model_ula.predict(x_test)"
      ],
      "execution_count": null,
      "outputs": [
        {
          "output_type": "stream",
          "name": "stdout",
          "text": [
            "Epoch 1/20\n",
            "1578/1578 [==============================] - 13s 8ms/step - loss: 0.1761 - mae: 0.1609 - val_loss: 0.0811 - val_mae: 0.1297\n",
            "Epoch 2/20\n",
            "1578/1578 [==============================] - 11s 7ms/step - loss: 0.1011 - mae: 0.1237 - val_loss: 0.0562 - val_mae: 0.1160\n",
            "Epoch 3/20\n",
            "1578/1578 [==============================] - 11s 7ms/step - loss: 0.0894 - mae: 0.1214 - val_loss: 0.0639 - val_mae: 0.1212\n",
            "Epoch 4/20\n",
            "1578/1578 [==============================] - 11s 7ms/step - loss: 0.0709 - mae: 0.1139 - val_loss: 0.0771 - val_mae: 0.1168\n",
            "Epoch 5/20\n",
            "1578/1578 [==============================] - 11s 7ms/step - loss: 0.0743 - mae: 0.1129 - val_loss: 0.1444 - val_mae: 0.1346\n",
            "Epoch 6/20\n",
            "1578/1578 [==============================] - 11s 7ms/step - loss: 0.0627 - mae: 0.1088 - val_loss: 0.0615 - val_mae: 0.1091\n",
            "Epoch 7/20\n",
            "1578/1578 [==============================] - 11s 7ms/step - loss: 0.0601 - mae: 0.1027 - val_loss: 0.0588 - val_mae: 0.1131\n",
            "Epoch 8/20\n",
            "1578/1578 [==============================] - 11s 7ms/step - loss: 0.0539 - mae: 0.1031 - val_loss: 0.0601 - val_mae: 0.1080\n",
            "Epoch 9/20\n",
            "1578/1578 [==============================] - 11s 7ms/step - loss: 0.0536 - mae: 0.1004 - val_loss: 0.0603 - val_mae: 0.1083\n",
            "Epoch 10/20\n",
            "1578/1578 [==============================] - 11s 7ms/step - loss: 0.0593 - mae: 0.1008 - val_loss: 0.0626 - val_mae: 0.1144\n",
            "Epoch 11/20\n",
            "1578/1578 [==============================] - 11s 7ms/step - loss: 0.0496 - mae: 0.0999 - val_loss: 0.0645 - val_mae: 0.1139\n",
            "Epoch 12/20\n",
            "1578/1578 [==============================] - 11s 7ms/step - loss: 0.0548 - mae: 0.0986 - val_loss: 0.0601 - val_mae: 0.1099\n",
            "Epoch 13/20\n",
            "1578/1578 [==============================] - 11s 7ms/step - loss: 0.0498 - mae: 0.0972 - val_loss: 0.0595 - val_mae: 0.1088\n",
            "Epoch 14/20\n",
            "1578/1578 [==============================] - 11s 7ms/step - loss: 0.0436 - mae: 0.0961 - val_loss: 0.0621 - val_mae: 0.1107\n",
            "Epoch 15/20\n",
            "1578/1578 [==============================] - 12s 7ms/step - loss: 0.0490 - mae: 0.0956 - val_loss: 0.0554 - val_mae: 0.1099\n",
            "Epoch 16/20\n",
            "1578/1578 [==============================] - 11s 7ms/step - loss: 0.0477 - mae: 0.0943 - val_loss: 0.0573 - val_mae: 0.1099\n",
            "Epoch 17/20\n",
            "1578/1578 [==============================] - 11s 7ms/step - loss: 0.0430 - mae: 0.0927 - val_loss: 0.0473 - val_mae: 0.1064\n",
            "Epoch 18/20\n",
            "1578/1578 [==============================] - 11s 7ms/step - loss: 0.0475 - mae: 0.0935 - val_loss: 0.0552 - val_mae: 0.1085\n",
            "Epoch 19/20\n",
            "1578/1578 [==============================] - 11s 7ms/step - loss: 0.0419 - mae: 0.0923 - val_loss: 0.0641 - val_mae: 0.1093\n",
            "Epoch 20/20\n",
            "1578/1578 [==============================] - 11s 7ms/step - loss: 0.0452 - mae: 0.0912 - val_loss: 0.0561 - val_mae: 0.1080\n"
          ]
        }
      ]
    },
    {
      "cell_type": "code",
      "metadata": {
        "colab": {
          "base_uri": "https://localhost:8080/"
        },
        "id": "oEMU-WQrBggh",
        "outputId": "2a4f3859-33c3-4e28-e4dd-db0b1b61b76c"
      },
      "source": [
        "print(predict)"
      ],
      "execution_count": null,
      "outputs": [
        {
          "output_type": "stream",
          "name": "stdout",
          "text": [
            "[[-0.13142796]\n",
            " [-0.27163276]\n",
            " [ 0.86709684]\n",
            " ...\n",
            " [ 0.609318  ]\n",
            " [-0.17346595]\n",
            " [-0.65207815]]\n"
          ]
        }
      ]
    },
    {
      "cell_type": "code",
      "metadata": {
        "colab": {
          "base_uri": "https://localhost:8080/"
        },
        "id": "DtVW5HNiEaLg",
        "outputId": "1b59fd8b-ed66-4889-8489-074b0c0f0d88"
      },
      "source": [
        "scores = model_ula.evaluate(x_test, y_test, verbose=1) #  оценка модельки на тестовой выборке"
      ],
      "execution_count": null,
      "outputs": [
        {
          "output_type": "stream",
          "name": "stdout",
          "text": [
            "439/439 [==============================] - 1s 3ms/step - loss: 0.1315 - mae: 0.1112\n"
          ]
        }
      ]
    },
    {
      "cell_type": "code",
      "metadata": {
        "id": "JnBP-ZdXBygy"
      },
      "source": [
        "predict_inverse = y_scaler.inverse_transform(predict).flatten()  #обратная инверсия"
      ],
      "execution_count": null,
      "outputs": []
    },
    {
      "cell_type": "markdown",
      "metadata": {
        "id": "_BnRQLRZDm9s"
      },
      "source": [
        "дальше не очень понятно:"
      ]
    },
    {
      "cell_type": "code",
      "metadata": {
        "colab": {
          "base_uri": "https://localhost:8080/"
        },
        "id": "EbGBt8FlCXxl",
        "outputId": "cd89cb90-d632-4f30-8ba3-4bbd0308fb46"
      },
      "source": [
        "predict_inverse.shape # размерность"
      ],
      "execution_count": null,
      "outputs": [
        {
          "output_type": "execute_result",
          "data": {
            "text/plain": [
              "(14024,)"
            ]
          },
          "metadata": {},
          "execution_count": 23
        }
      ]
    },
    {
      "cell_type": "code",
      "metadata": {
        "colab": {
          "base_uri": "https://localhost:8080/"
        },
        "id": "rpy6TRsVCgOp",
        "outputId": "465d30cc-d969-4da9-dd96-e5ffc7c12121"
      },
      "source": [
        "predict_inverse.mean() #средняя цена машины в модельке"
      ],
      "execution_count": null,
      "outputs": [
        {
          "output_type": "execute_result",
          "data": {
            "text/plain": [
              "537756.56"
            ]
          },
          "metadata": {},
          "execution_count": 24
        }
      ]
    },
    {
      "cell_type": "code",
      "metadata": {
        "colab": {
          "base_uri": "https://localhost:8080/"
        },
        "id": "ac9QjPpMD24y",
        "outputId": "b5f5fba4-a078-4312-835c-504d8fca6692"
      },
      "source": [
        "predict_inverse.min() #  упс..... вот это как??? "
      ],
      "execution_count": null,
      "outputs": [
        {
          "output_type": "execute_result",
          "data": {
            "text/plain": [
              "-17860.586"
            ]
          },
          "metadata": {},
          "execution_count": 25
        }
      ]
    },
    {
      "cell_type": "code",
      "metadata": {
        "colab": {
          "base_uri": "https://localhost:8080/"
        },
        "id": "ylEdWxHOB1eY",
        "outputId": "24f12ab2-54e5-478a-a503-77467f00e959"
      },
      "source": [
        "print(predict_inverse.max())"
      ],
      "execution_count": null,
      "outputs": [
        {
          "output_type": "stream",
          "name": "stdout",
          "text": [
            "18180858.0\n"
          ]
        }
      ]
    },
    {
      "cell_type": "code",
      "metadata": {
        "colab": {
          "base_uri": "https://localhost:8080/"
        },
        "id": "j6MFrLGvfLO8",
        "outputId": "805b18ef-bef0-4f03-c826-1249233f0c4f"
      },
      "source": [
        "y_test.mean()"
      ],
      "execution_count": null,
      "outputs": [
        {
          "output_type": "execute_result",
          "data": {
            "text/plain": [
              "0.0023144084840627517"
            ]
          },
          "metadata": {},
          "execution_count": 27
        }
      ]
    },
    {
      "cell_type": "code",
      "metadata": {
        "id": "Xv4KJjflSrh3"
      },
      "source": [
        "inverse = y_scaler.inverse_transform(y_test).flatten() # инверсия не тронутой выборки"
      ],
      "execution_count": null,
      "outputs": []
    },
    {
      "cell_type": "code",
      "metadata": {
        "colab": {
          "base_uri": "https://localhost:8080/"
        },
        "id": "NRJ_6QjKXv74",
        "outputId": "d9fb6d77-e411-4950-9049-bb0102089bf2"
      },
      "source": [
        "inverse.shape"
      ],
      "execution_count": null,
      "outputs": [
        {
          "output_type": "execute_result",
          "data": {
            "text/plain": [
              "(14024,)"
            ]
          },
          "metadata": {},
          "execution_count": 29
        }
      ]
    },
    {
      "cell_type": "code",
      "metadata": {
        "colab": {
          "base_uri": "https://localhost:8080/"
        },
        "id": "fEbcuoFnSx6m",
        "outputId": "24de36a4-e117-43aa-c00c-e753c775d2cf"
      },
      "source": [
        "inverse.mean() # средння цена в тестовой выборке"
      ],
      "execution_count": null,
      "outputs": [
        {
          "output_type": "execute_result",
          "data": {
            "text/plain": [
              "529169.5510553337"
            ]
          },
          "metadata": {},
          "execution_count": 30
        }
      ]
    },
    {
      "cell_type": "code",
      "metadata": {
        "id": "xCX76tjIS_C_"
      },
      "source": [
        "x_oshibka=predict_inverse.mean()/inverse.mean() #"
      ],
      "execution_count": null,
      "outputs": []
    },
    {
      "cell_type": "code",
      "metadata": {
        "colab": {
          "base_uri": "https://localhost:8080/"
        },
        "id": "oLt3XrbRTZQc",
        "outputId": "ae59b247-7ae0-4038-f0d5-e0593249371b"
      },
      "source": [
        "print('Ср. ошибка:', round(x_oshibka *100-100, 4), '%')"
      ],
      "execution_count": null,
      "outputs": [
        {
          "output_type": "stream",
          "name": "stdout",
          "text": [
            "Ср. ошибка: 1.6227 %\n"
          ]
        }
      ]
    }
  ]
}