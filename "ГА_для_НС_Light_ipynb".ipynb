{
  "nbformat": 4,
  "nbformat_minor": 0,
  "metadata": {
    "colab": {
      "name": " \"ГА  для НС.  Light .ipynb\"",
      "provenance": [],
      "toc_visible": true,
      "machine_shape": "hm",
      "authorship_tag": "ABX9TyOaZWQrzHbeMeGtj2EjWzc7",
      "include_colab_link": true
    },
    "kernelspec": {
      "name": "python3",
      "display_name": "Python 3"
    },
    "language_info": {
      "name": "python"
    },
    "accelerator": "GPU"
  },
  "cells": [
    {
      "cell_type": "markdown",
      "metadata": {
        "id": "view-in-github",
        "colab_type": "text"
      },
      "source": [
        "<a href=\"https://colab.research.google.com/github/Sergrey5571/Sergrey5571/blob/main/%22%D0%93%D0%90_%D0%B4%D0%BB%D1%8F_%D0%9D%D0%A1_Light_ipynb%22.ipynb\" target=\"_parent\"><img src=\"https://colab.research.google.com/assets/colab-badge.svg\" alt=\"Open In Colab\"/></a>"
      ]
    },
    {
      "cell_type": "markdown",
      "source": [
        "# Домашнее задание и загрузка библиотек"
      ],
      "metadata": {
        "id": "urv65XNIaU1J"
      }
    },
    {
      "cell_type": "markdown",
      "source": [
        "Взяв за основу ГА из занятия, нарастите сложность сверточной сети, которая генерируется.\n",
        "\n",
        "Сделайте возможность бота создать любую последовательность слоев. Количество слоев должно задаваться ботом.\n",
        "Можно жёстко настроить появление Flatten и полносвязные слои только в конце.\n",
        "Полносвязные слои ГА также может генерить в произвольном количестве (количество слоев содержиться в боте)."
      ],
      "metadata": {
        "id": "WAR9f7gRalVU"
      }
    },
    {
      "cell_type": "code",
      "execution_count": null,
      "metadata": {
        "id": "HQ4Hlay0Kdi7"
      },
      "outputs": [],
      "source": [
        "import pandas as pd\n",
        "import numpy as np\n",
        "import matplotlib.pyplot as plt\n",
        "\n",
        "from tensorflow.keras import utils\n",
        "from tensorflow.keras.optimizers import Adam\n",
        "from tensorflow.keras.models import Sequential, Model\n",
        "from tensorflow.keras.layers import Dense, Dropout, Reshape, BatchNormalization, Input, GlobalMaxPool1D, UpSampling1D\n",
        "from tensorflow.keras.layers import Conv2DTranspose, Lambda, Flatten, Conv1D, Conv2D, LSTM, MaxPooling1D, Activation\n",
        "from tensorflow.keras.losses import MAE\n",
        "from tensorflow.keras.preprocessing.sequence import TimeseriesGenerator\n",
        "from tensorflow.keras.utils import plot_model\n",
        "import tensorflow.keras.backend as K\n",
        "\n",
        "from sklearn.preprocessing import MinMaxScaler, StandardScaler\n",
        "from PIL import Image\n",
        "from google.colab import files\n",
        "\n",
        "import time\n",
        "import random as random\n",
        "%matplotlib inline\n"
      ]
    },
    {
      "cell_type": "code",
      "source": [
        "from google.colab import drive\n",
        "drive.mount('/content/drive')"
      ],
      "metadata": {
        "colab": {
          "base_uri": "https://localhost:8080/"
        },
        "id": "qJ5x_CmGjnsn",
        "outputId": "085875a1-85fe-4df5-9cc8-7deb32d1b5d5"
      },
      "execution_count": null,
      "outputs": [
        {
          "output_type": "stream",
          "name": "stdout",
          "text": [
            "Drive already mounted at /content/drive; to attempt to forcibly remount, call drive.mount(\"/content/drive\", force_remount=True).\n"
          ]
        }
      ]
    },
    {
      "cell_type": "code",
      "source": [
        "base_data = pd.read_csv('/content/drive/MyDrive/БАЗЫ/traff.csv', header=None)"
      ],
      "metadata": {
        "id": "wH9WJk9bkZYA"
      },
      "execution_count": null,
      "outputs": []
    },
    {
      "cell_type": "code",
      "source": [
        "base_data"
      ],
      "metadata": {
        "colab": {
          "base_uri": "https://localhost:8080/",
          "height": 424
        },
        "id": "zCtH6aqnkxB5",
        "outputId": "16450879-f741-41d5-9ddc-ff7257e5657d"
      },
      "execution_count": null,
      "outputs": [
        {
          "output_type": "execute_result",
          "data": {
            "text/html": [
              "\n",
              "  <div id=\"df-338320e3-89c0-4834-b860-625887a242cf\">\n",
              "    <div class=\"colab-df-container\">\n",
              "      <div>\n",
              "<style scoped>\n",
              "    .dataframe tbody tr th:only-of-type {\n",
              "        vertical-align: middle;\n",
              "    }\n",
              "\n",
              "    .dataframe tbody tr th {\n",
              "        vertical-align: top;\n",
              "    }\n",
              "\n",
              "    .dataframe thead th {\n",
              "        text-align: right;\n",
              "    }\n",
              "</style>\n",
              "<table border=\"1\" class=\"dataframe\">\n",
              "  <thead>\n",
              "    <tr style=\"text-align: right;\">\n",
              "      <th></th>\n",
              "      <th>0</th>\n",
              "      <th>1</th>\n",
              "    </tr>\n",
              "  </thead>\n",
              "  <tbody>\n",
              "    <tr>\n",
              "      <th>0</th>\n",
              "      <td>1/1/2017</td>\n",
              "      <td>22,226.00</td>\n",
              "    </tr>\n",
              "    <tr>\n",
              "      <th>1</th>\n",
              "      <td>1/2/2017</td>\n",
              "      <td>29,593.00</td>\n",
              "    </tr>\n",
              "    <tr>\n",
              "      <th>2</th>\n",
              "      <td>1/3/2017</td>\n",
              "      <td>31,726.00</td>\n",
              "    </tr>\n",
              "    <tr>\n",
              "      <th>3</th>\n",
              "      <td>1/4/2017</td>\n",
              "      <td>32,684.00</td>\n",
              "    </tr>\n",
              "    <tr>\n",
              "      <th>4</th>\n",
              "      <td>1/5/2017</td>\n",
              "      <td>31,820.00</td>\n",
              "    </tr>\n",
              "    <tr>\n",
              "      <th>...</th>\n",
              "      <td>...</td>\n",
              "      <td>...</td>\n",
              "    </tr>\n",
              "    <tr>\n",
              "      <th>1090</th>\n",
              "      <td>12/27/2019</td>\n",
              "      <td>29,801.00</td>\n",
              "    </tr>\n",
              "    <tr>\n",
              "      <th>1091</th>\n",
              "      <td>12/28/2019</td>\n",
              "      <td>34,913.00</td>\n",
              "    </tr>\n",
              "    <tr>\n",
              "      <th>1092</th>\n",
              "      <td>12/29/2019</td>\n",
              "      <td>37,665.00</td>\n",
              "    </tr>\n",
              "    <tr>\n",
              "      <th>1093</th>\n",
              "      <td>12/30/2019</td>\n",
              "      <td>32,643.00</td>\n",
              "    </tr>\n",
              "    <tr>\n",
              "      <th>1094</th>\n",
              "      <td>12/31/2019</td>\n",
              "      <td>28,212.00</td>\n",
              "    </tr>\n",
              "  </tbody>\n",
              "</table>\n",
              "<p>1095 rows × 2 columns</p>\n",
              "</div>\n",
              "      <button class=\"colab-df-convert\" onclick=\"convertToInteractive('df-338320e3-89c0-4834-b860-625887a242cf')\"\n",
              "              title=\"Convert this dataframe to an interactive table.\"\n",
              "              style=\"display:none;\">\n",
              "        \n",
              "  <svg xmlns=\"http://www.w3.org/2000/svg\" height=\"24px\"viewBox=\"0 0 24 24\"\n",
              "       width=\"24px\">\n",
              "    <path d=\"M0 0h24v24H0V0z\" fill=\"none\"/>\n",
              "    <path d=\"M18.56 5.44l.94 2.06.94-2.06 2.06-.94-2.06-.94-.94-2.06-.94 2.06-2.06.94zm-11 1L8.5 8.5l.94-2.06 2.06-.94-2.06-.94L8.5 2.5l-.94 2.06-2.06.94zm10 10l.94 2.06.94-2.06 2.06-.94-2.06-.94-.94-2.06-.94 2.06-2.06.94z\"/><path d=\"M17.41 7.96l-1.37-1.37c-.4-.4-.92-.59-1.43-.59-.52 0-1.04.2-1.43.59L10.3 9.45l-7.72 7.72c-.78.78-.78 2.05 0 2.83L4 21.41c.39.39.9.59 1.41.59.51 0 1.02-.2 1.41-.59l7.78-7.78 2.81-2.81c.8-.78.8-2.07 0-2.86zM5.41 20L4 18.59l7.72-7.72 1.47 1.35L5.41 20z\"/>\n",
              "  </svg>\n",
              "      </button>\n",
              "      \n",
              "  <style>\n",
              "    .colab-df-container {\n",
              "      display:flex;\n",
              "      flex-wrap:wrap;\n",
              "      gap: 12px;\n",
              "    }\n",
              "\n",
              "    .colab-df-convert {\n",
              "      background-color: #E8F0FE;\n",
              "      border: none;\n",
              "      border-radius: 50%;\n",
              "      cursor: pointer;\n",
              "      display: none;\n",
              "      fill: #1967D2;\n",
              "      height: 32px;\n",
              "      padding: 0 0 0 0;\n",
              "      width: 32px;\n",
              "    }\n",
              "\n",
              "    .colab-df-convert:hover {\n",
              "      background-color: #E2EBFA;\n",
              "      box-shadow: 0px 1px 2px rgba(60, 64, 67, 0.3), 0px 1px 3px 1px rgba(60, 64, 67, 0.15);\n",
              "      fill: #174EA6;\n",
              "    }\n",
              "\n",
              "    [theme=dark] .colab-df-convert {\n",
              "      background-color: #3B4455;\n",
              "      fill: #D2E3FC;\n",
              "    }\n",
              "\n",
              "    [theme=dark] .colab-df-convert:hover {\n",
              "      background-color: #434B5C;\n",
              "      box-shadow: 0px 1px 3px 1px rgba(0, 0, 0, 0.15);\n",
              "      filter: drop-shadow(0px 1px 2px rgba(0, 0, 0, 0.3));\n",
              "      fill: #FFFFFF;\n",
              "    }\n",
              "  </style>\n",
              "\n",
              "      <script>\n",
              "        const buttonEl =\n",
              "          document.querySelector('#df-338320e3-89c0-4834-b860-625887a242cf button.colab-df-convert');\n",
              "        buttonEl.style.display =\n",
              "          google.colab.kernel.accessAllowed ? 'block' : 'none';\n",
              "\n",
              "        async function convertToInteractive(key) {\n",
              "          const element = document.querySelector('#df-338320e3-89c0-4834-b860-625887a242cf');\n",
              "          const dataTable =\n",
              "            await google.colab.kernel.invokeFunction('convertToInteractive',\n",
              "                                                     [key], {});\n",
              "          if (!dataTable) return;\n",
              "\n",
              "          const docLinkHtml = 'Like what you see? Visit the ' +\n",
              "            '<a target=\"_blank\" href=https://colab.research.google.com/notebooks/data_table.ipynb>data table notebook</a>'\n",
              "            + ' to learn more about interactive tables.';\n",
              "          element.innerHTML = '';\n",
              "          dataTable['output_type'] = 'display_data';\n",
              "          await google.colab.output.renderOutput(dataTable, element);\n",
              "          const docLink = document.createElement('div');\n",
              "          docLink.innerHTML = docLinkHtml;\n",
              "          element.appendChild(docLink);\n",
              "        }\n",
              "      </script>\n",
              "    </div>\n",
              "  </div>\n",
              "  "
            ],
            "text/plain": [
              "               0          1\n",
              "0       1/1/2017  22,226.00\n",
              "1       1/2/2017  29,593.00\n",
              "2       1/3/2017  31,726.00\n",
              "3       1/4/2017  32,684.00\n",
              "4       1/5/2017  31,820.00\n",
              "...          ...        ...\n",
              "1090  12/27/2019  29,801.00\n",
              "1091  12/28/2019  34,913.00\n",
              "1092  12/29/2019  37,665.00\n",
              "1093  12/30/2019  32,643.00\n",
              "1094  12/31/2019  28,212.00\n",
              "\n",
              "[1095 rows x 2 columns]"
            ]
          },
          "metadata": {},
          "execution_count": 30
        }
      ]
    },
    {
      "cell_type": "code",
      "source": [
        "data = base_data.iloc[:, 1] # убираем столбец времени\n",
        "d = data # для простоты\n",
        "print(len(d))\n",
        "print(len(d.iloc[0])) # длина одной строки вместе с запятой и точкой\n",
        "print(d.iloc[0])"
      ],
      "metadata": {
        "colab": {
          "base_uri": "https://localhost:8080/"
        },
        "id": "p6cwbTXml6qs",
        "outputId": "ec9421a1-e8db-4ad6-9fbf-d17ca2270f7f"
      },
      "execution_count": null,
      "outputs": [
        {
          "output_type": "stream",
          "name": "stdout",
          "text": [
            "1095\n",
            "9\n",
            "22,226.00\n"
          ]
        }
      ]
    },
    {
      "cell_type": "code",
      "source": [
        "data"
      ],
      "metadata": {
        "colab": {
          "base_uri": "https://localhost:8080/"
        },
        "id": "YGwJISGxoSfh",
        "outputId": "751162a1-ac10-410f-bec8-dea628853371"
      },
      "execution_count": null,
      "outputs": [
        {
          "output_type": "execute_result",
          "data": {
            "text/plain": [
              "0       22,226.00\n",
              "1       29,593.00\n",
              "2       31,726.00\n",
              "3       32,684.00\n",
              "4       31,820.00\n",
              "          ...    \n",
              "1090    29,801.00\n",
              "1091    34,913.00\n",
              "1092    37,665.00\n",
              "1093    32,643.00\n",
              "1094    28,212.00\n",
              "Name: 1, Length: 1095, dtype: object"
            ]
          },
          "metadata": {},
          "execution_count": 32
        }
      ]
    },
    {
      "cell_type": "code",
      "source": [
        "data = np.array(data)\n",
        "for i in range(len(data)):\n",
        "  data[i] = float(data[i].replace(',', ''))# вместо запятой, ставим пусто"
      ],
      "metadata": {
        "id": "VCJKMG6woXXf"
      },
      "execution_count": null,
      "outputs": []
    },
    {
      "cell_type": "code",
      "source": [
        "data # смотрим чего получилось. Должны придти к одномерному массиву вещественных чисел"
      ],
      "metadata": {
        "colab": {
          "base_uri": "https://localhost:8080/"
        },
        "id": "LegoXeeXo0mH",
        "outputId": "2abf7a28-d11f-4566-8605-57677dfb1023"
      },
      "execution_count": null,
      "outputs": [
        {
          "output_type": "execute_result",
          "data": {
            "text/plain": [
              "array([22226.0, 29593.0, 31726.0, ..., 37665.0, 32643.0, 28212.0],\n",
              "      dtype=object)"
            ]
          },
          "metadata": {},
          "execution_count": 34
        }
      ]
    },
    {
      "cell_type": "markdown",
      "source": [
        "# Загрузка  данных"
      ],
      "metadata": {
        "id": "j9i-35gRFTy9"
      }
    },
    {
      "cell_type": "markdown",
      "source": [
        "временные ряды"
      ],
      "metadata": {
        "id": "hAnxQlKnFISI"
      }
    },
    {
      "cell_type": "code",
      "source": [
        "xlen = 60 # берём кусок для анализа\n",
        "valLen = 300 # кол-во записей для проверки\n",
        "trainLen = data.shape[0] - valLen #размер тренировочный\n",
        "Train, Test = np.reshape(data[:trainLen], (-1, 1)), np.reshape(data[trainLen + xlen + 2:], (-1, 1)) # тренировочная и тестовая\n",
        "\n",
        "\n",
        "print(Train.shape)\n",
        "print(Test.shape)"
      ],
      "metadata": {
        "colab": {
          "base_uri": "https://localhost:8080/"
        },
        "id": "mgBQFuz1FPtM",
        "outputId": "4bee5431-bca4-4ea4-bad8-3a4d19ab0f6b"
      },
      "execution_count": null,
      "outputs": [
        {
          "output_type": "stream",
          "name": "stdout",
          "text": [
            "(795, 1)\n",
            "(238, 1)\n"
          ]
        }
      ]
    },
    {
      "cell_type": "code",
      "source": [
        "Scaler = MinMaxScaler()#  метод маштабирования\n",
        "Scaler.fit(Train)\n",
        "Train = Scaler.transform(Train)\n",
        "Test = Scaler.transform(Test)\n"
      ],
      "metadata": {
        "id": "0QUgQcC0KT9K"
      },
      "execution_count": null,
      "outputs": []
    },
    {
      "cell_type": "code",
      "source": [
        "trainDataGen = TimeseriesGenerator(Train, Train, length=xlen, sampling_rate=1, batch_size=20)# генератор для обучения.\n",
        "testDataGen = TimeseriesGenerator(Test, Test, length=xlen, batch_size=20)\n"
      ],
      "metadata": {
        "id": "imMW8E5vKn0a"
      },
      "execution_count": null,
      "outputs": []
    },
    {
      "cell_type": "markdown",
      "source": [
        "отображение результатов:"
      ],
      "metadata": {
        "id": "aDE9j83WOk4o"
      }
    },
    {
      "cell_type": "code",
      "source": [
        "def autoCorr(channels, corrSteps, predVal, yValUnscaled, showGraf = True, returnData = False):\n",
        "  # Проходим по всем каналам\n",
        "  for ch in channels:\n",
        "    corr = [] # Создаём пустой лист, в нём будут корреляции при смезении на i рагов обратно\n",
        "    yLen = yValUnscaled.shape[0] # Запоминаем размер проверочной выборки\n",
        "\n",
        "      # Постепенно увеличикаем шаг, насколько смещаем сигнал для проверки автокорреляции\n",
        "    for i in range(corrSteps):\n",
        "      # Получаем сигнал, смещённый на i шагов назад\n",
        "      # predVal[i:, ch]\n",
        "      # Сравниваем его с верными ответами, без смещения назад\n",
        "      # yValUnscaled[:yLen-i,ch]\n",
        "      # Рассчитываем их корреляцию и добавляем в лист\n",
        "      corr.append(correlate(yValUnscaled[:yLen-i,ch], predVal[i:, ch]))\n",
        "\n",
        "    own_corr = [] # Создаём пустой лист, в нём будут корреляции при смезении на i рагов обратно\n",
        "\n",
        "      # Постепенно увеличикаем шаг, насколько смещаем сигнал для проверки автокорреляции\n",
        "    for i in range(corrSteps):\n",
        "      # Получаем сигнал, смещённый на i шагов назад\n",
        "      # predVal[i:, ch]\n",
        "      # Сравниваем его с верными ответами, без смещения назад\n",
        "      # yValUnscaled[:yLen-i,ch]\n",
        "      # Рассчитываем их корреляцию и добавляем в лист\n",
        "      own_corr.append(correlate(yValUnscaled[:yLen-i,ch], yValUnscaled[i:, ch]))\n",
        "\n",
        "    # Отображаем график коррелций для данного шага\n",
        "    if showGraf: #Если нужно показать график\n",
        "      plt.plot(corr, label='предсказание на ' + str(ch+1) + ' шаг')\n",
        "      plt.plot(own_corr, label='Эталон')\n",
        "\n",
        "  if showGraf: #Если нужно показать график\n",
        "    plt.xlabel('Время')\n",
        "    plt.ylabel('Значение')\n",
        "    plt.legend()\n",
        "    plt.show()\n",
        "\n",
        "  if returnData: #Если нужно вернуть массивы автокорреляции\n",
        "    return corr, own_corr"
      ],
      "metadata": {
        "id": "Qy_L3sGEQBgm"
      },
      "execution_count": null,
      "outputs": []
    },
    {
      "cell_type": "code",
      "source": [
        "def getPred(currModel, xVal, yVal, yScaler): # функция прогнозирования сети. currModel- агрумент сети\n",
        "  predVal = yScaler.inverse_transform(currModel.predict(xVal)) # предсказание ответа в сети и сразу перевод в исходное значение\n",
        "  yValUnscaled = yScaler.inverse_transform(yVal)\n",
        "  return (predVal, yValUnscaled)\n",
        "\n",
        "def showPredict(start, step, channel, predVal, yValUnscaled): # start-начало графика, step-длина, и ответы  в прошлой функции\n",
        "  plt.plot(predVal[start:start+step, channel], label='Прогноз')\n",
        "  plt.plot(yValUnscaled[start:start+step, channel], label='Базовый ряд')\n",
        "\n",
        "def correlate(a, b): # корреляция двух одномерных векторов\n",
        "  ma = a.mean()\n",
        "  mb = b.mean()\n",
        "  mab = (a*b).mean()\n",
        "  sa = a.std()\n",
        "  sb = b.std()\n",
        "\n",
        "  val = 0\n",
        "  if ((sa>0)and(sb>0)):\n",
        "    val = (mab - ma*mb)/(sa*sb)\n",
        "  return val\n",
        "\n",
        "#def autoCorr(channels, corrSteps, predVal, yValUnscaled, showGraf=True, returnData=False):\n",
        "  #   channels-по каким каналам отображаем коррелляцию\n",
        "  #   corrsteps- количество шагов смещать сигнал назад для расчёта корреляции\n",
        "  #   showGraf-показывать график или нет\n",
        "  #   returnData-возвращаем массивы автокорреляции или нет\n",
        "  for ch in channels:\n",
        "    corr = [] #пустой лист, корреляция при смещении на i-шагов обратно\n",
        "    yLen = yValUnscaled.shape[0]\n",
        "    for i in range(corrSteps):\n",
        "      corr.append(correlate(yValUnscaled[:yLen-i, ch], predVal[i:, ch]))\n",
        "      # i- увеличиваем шаг сигнала назад для проверки автокорреляции\n",
        "      # predVal[i:. ch]- сравниваем сигнал i назад (i:)\n",
        "      # yValUnscaled[:yLen-i, ch]- сравниваем сигнал с верным ответом без смещения :yLen-i\n",
        "    \n",
        "    own_corr = [] # делаем ещё такой же цикл. это было в лекции по временным рядам\n",
        "    for i in range(corrSteps):\n",
        "      own_corr.append(correlate(yValUnscaled[:yLen-i, ch], predVal[i:, ch]))\n",
        "    \n",
        "    if showGraf: # не забывать это в цикле, и показывает только для данного шага\n",
        "      plt.plot(corr, label='предсказание на ' + str(ch+1) + 'шаг')\n",
        "      plt.plot(own_corr, label='Эталон')\n",
        "  \n",
        "  #if showGraf: # график\n",
        "    plt.xlabel('Время')\n",
        "    plt.ylabel('Значение')\n",
        "    plt.legend()\n",
        "    plt.show()\n",
        "  \n",
        "  #if returnData: # если нужно вернуть массив автокорреляции\n",
        "    return corr, own_corr\n",
        "    "
      ],
      "metadata": {
        "id": "7ef_mKvEOsGs"
      },
      "execution_count": null,
      "outputs": []
    },
    {
      "cell_type": "markdown",
      "source": [
        "#  Индексы архитектуры"
      ],
      "metadata": {
        "id": "gOWmUhMw1Oob"
      }
    },
    {
      "cell_type": "markdown",
      "source": [
        "**генерация проверочной выборки**"
      ],
      "metadata": {
        "id": "dSlCSi78rqUz"
      }
    },
    {
      "cell_type": "code",
      "source": [
        "DataGen = TimeseriesGenerator(Test, Test, length=xlen, batch_size=len(Test)) \n",
        "xVal = []\n",
        "yVal = [] \n",
        "for i in DataGen:\n",
        "  xVal.append(i[0])\n",
        "  yVal.append(i[1])\n",
        "xVal = np.array(xVal)\n",
        "yVal = np.array(yVal)"
      ],
      "metadata": {
        "id": "NXA6Cyd8r1RA"
      },
      "execution_count": null,
      "outputs": []
    },
    {
      "cell_type": "markdown",
      "source": [
        "**Назначение индексов архитектуры:**"
      ],
      "metadata": {
        "id": "OcRiC4_w1ovy"
      }
    },
    {
      "cell_type": "markdown",
      "source": [
        "**Входной слой**\n",
        "\n",
        "*   0 - делаем нормализацию. да/нет\n",
        "\n",
        "*   1 - размер первого свёрточного слоя\n",
        "\n",
        "*   2 - ядро первого свёрточного слоя\n",
        "*   3 - функция активации первого слоя\n",
        "\n",
        "\n",
        "*   4 - MaxPooling0. да/нет\n",
        "\n",
        "\n",
        "*   5 - размер MaxPooling0\n",
        "\n",
        "\n",
        "---\n",
        "**Первый скрытый слой**\n",
        "\n",
        "\n",
        "*   6 - второй свёрточный слой. да/нет\n",
        "*   7 - размер второго свёрточного слоя\n",
        "\n",
        "*   8 - ядро второго свёрточного слоя\n",
        "*   9 - MaxPooling1. да/нет\n",
        "\n",
        "*   10 - размер MaxPooling1\n",
        "*   11 - фунция активации\n",
        "\n",
        "\n",
        "---\n",
        "**Второй скрытый слой**\n",
        "\n",
        "\n",
        "*   12 - третий свёрточный слой. да/нет\n",
        "*   13 - размер третьего свёрточного слоя\n",
        "\n",
        "*   14 - ядро третьего свёрточного слоя\n",
        "*   15 - MaxPooling2. да/нет\n",
        "\n",
        "*   16 - размер MaxPooling2\n",
        "*   17 - функция активации\n",
        "---\n",
        "**слой Flatten**\n",
        "\n",
        "\n",
        "*   18 - cлой Flatten\n",
        "**первый полносвязный слой**\n",
        "\n",
        "*   19 - полносвязный слой dense0 . да/нет\n",
        "*   20 - размер полносвязного слоя denseSize0 \n",
        "*   21 - функция активации activation5\n",
        "**второй полносвязный слой** \n",
        "\n",
        "*   22 - полносвязный слой dense1.  да/нет\n",
        "*   23 - размер полносвязного слоя denseSize1\n",
        "*   24 - функция активации activation6\n",
        "**третий полносвязный слой**\n",
        "\n",
        "*   25 - полносвязный слой dense2. да/нет\n",
        "*   26 - размер полносвязного слоя denseSize2\n",
        "*   27 - функция активации activation7 \n",
        "\n",
        "*   28 - функция активации выходного слоя\n",
        "*    - \n",
        "\n",
        "---\n",
        "**Предпоследний скрытый слой** \n",
        "\n",
        "*    29 - нормализация. да/нет\n"
      ],
      "metadata": {
        "id": "Lf7jR4Xe2fBX"
      }
    },
    {
      "cell_type": "markdown",
      "source": [
        "# Функция Модели"
      ],
      "metadata": {
        "id": "9_ea-2znFixs"
      }
    },
    {
      "cell_type": "code",
      "source": [
        "def createConvNet(net): # по порядочку забиваем составляющие модели по индексам\n",
        "\n",
        "  model = Sequential()             # Создаем модель Sequential\n",
        "  \n",
        "  makeFirstNormalization = net[0]  # нормализация в начале. да/нет\n",
        "  firstConvSize = 2 ** net[1]      # Размер первого вёрточного слоя\n",
        "  firstConvKernel = net[2]         # Ядро первого свёрточного слоя\n",
        "  activation0 = net[3]             # Функция активации входного слоя\n",
        "  makeMaxPooling0 = net[4]         # maxpooling для нулевого слоя. да/нет\n",
        "  maxPoolingSize0 = net[5]         # Размер MaxPooling\n",
        "\n",
        "  makeSecondConv = net[6]          # Делаем ли второй свёрточный слой\n",
        "  secondConvSize = 2 ** net[7]     # Размер второго свёрточного слоя\n",
        "  secondConvKernel = net[8]        # Ядро второго свёрточного слоя\n",
        "  makeMaxPooling1 = net[9]         # Делаем ли MaxPooling\n",
        "  maxPoolingSize1 = net[10]        # Размер MaxPooling\n",
        "  activation1 = net[11]            # Функция активации\n",
        "\n",
        "  makeThirdConv = net[12]          # Делаем ли второй свёрточный слой\n",
        "  thirdConvSize = 2 ** net[13]     # Размер второго свёрточного слоя\n",
        "  thirdConvKernel = net[14]        # Ядро второго свёрточного слоя\n",
        "  makeMaxPooling2 = net[15]        # Делаем ли MaxPooling. да/нет\n",
        "  maxPoolingSize2 = net[16]        # Размер MaxPooling\n",
        "  activation2 = net[17]            # Функция активации\n",
        "\n",
        "  flatten0 = net[18]                  # Функция спрямления\n",
        "\n",
        "  dense0 = net[19]                    # Полносвязный слой да/нет\n",
        "  denseSize0 =2** net [20]                # Размер полносвязного слоя \n",
        "  activation5 = net[21]               # Функция активации \n",
        "\n",
        "  dense1 = net[22]                    # Полносвязный слой да/нет\n",
        "  denseSize1 = 2**net[23]                # Размер полносвязного слоя \n",
        "  activation6 = net[24]               # Функция активации\n",
        "\n",
        "  dense2 = net[25]                    # Полносвязный слой да/нет\n",
        "  denseSize2 = 2**net[26]                # Размер полносвязного слоя \n",
        "  activation7 = net[27]                # Функция активации activation7\n",
        " \n",
        "  #activation3 = net[]            # Функция активации для \n",
        "  activation4 = net[28]            # Функция активации для последнего слоя\n",
        "  makeSecondNormalization = net[29] # Делаем ли финальную нормализацию\n",
        "  \n",
        "  #denseSize = 2 ** net[]          # Размер полносвязного слоя\n",
        "\n",
        "  activation_list = ['linear', 'relu', 'tanh', 'softmax', 'sigmoid'] # лист активационных функций\n",
        "\n",
        "  if (makeFirstNormalization): # если добавляется слой нормализации, указать размер на входе\n",
        "    model.add(BatchNormalization(input_shape=(xlen, 1)))\n",
        "    model.add(Conv1D(firstConvSize, firstConvKernel, activation=activation_list[activation0], padding='same'))\n",
        "  else: # если нет, то просто добавляется свёртка, но с указанием обязательно размера входа\n",
        "    model.add(Conv1D(firstConvSize, firstConvKernel, input_shape=(xlen, 1), activation=activation_list[activation0], padding='same'))\n",
        "  if makeMaxPooling0:\n",
        "    model.add(MaxPooling1D(maxPoolingSize0)) # добавляем, если добавляем макспуллинг\n",
        "  \n",
        "  # второй свёрточный слой, если делаем\n",
        "  if (makeSecondConv):\n",
        "    model.add(Conv1D(secondConvSize, secondConvKernel, activation=activation_list[activation1], padding='same'))\n",
        "    if (makeMaxPooling1): # если решили добавить макспулиннг\n",
        "      model.add(MaxPooling1D(pool_size=maxPoolingSize1))\n",
        "  \n",
        "  # третий свёрточноый слой, если делаем\n",
        "  if (makeThirdConv):\n",
        "    model.add(Conv1D(thirdConvSize, thirdConvKernel, activation=activation_list[activation2], padding='same'))\n",
        "    if (makeMaxPooling2):\n",
        "      model.add(MaxPooling1D(pool_size=maxPoolingSize2))\n",
        "\n",
        "  # Flatten жёстко привязан к модели\n",
        "  if (flatten0):\n",
        "    model.add(Flatten())\n",
        "# ПОПРОБУЮ, НЕ ФАКТ\n",
        "  for i in range(1, 4):\n",
        "  # полносвязный слой 1, если делаем\n",
        "    if (dense0):\n",
        "      model.add(Dense(denseSize0, activation=activation_list[activation5]))\n",
        "  \n",
        "  # полносвязный слой 2, если делаем\n",
        "    if (dense1):\n",
        "      model.add(Dense(denseSize1, activation=activation_list[activation6]))\n",
        "  \n",
        "  # полносвязный слой 3, если делаем\n",
        "    if (dense2):\n",
        "      model.add(Dense(denseSize2, activation=activation_list[activation7]))\n",
        "  \n",
        "\n",
        "\n",
        "\n",
        "  \n",
        "  # финальная нормализация\n",
        "  if (makeSecondNormalization):\n",
        "    model.add(BatchNormalization())\n",
        "\n",
        "  # вытягиваем свёртку\n",
        "  #model.add(Flatten())\n",
        "\n",
        "  # полносвязный слой Dense\n",
        "  #model.add(Dense(denseSize, activation= activation_list[activation3]))\n",
        "\n",
        "  # финальный выходной слой с одним нейроном и функцией сигмоид\n",
        "  model.add(Dense(1, activation=activation_list[activation4]))\n",
        "  return model\n"
      ],
      "metadata": {
        "id": "RxFssE9207XG"
      },
      "execution_count": null,
      "outputs": []
    },
    {
      "cell_type": "markdown",
      "source": [
        "теперь набираем диапазоны параметров для каждого будущего индекса(29 индекса) из случайных чисел"
      ],
      "metadata": {
        "id": "j0GGBnqZjT2p"
      }
    },
    {
      "cell_type": "code",
      "source": [
        "def createRandomNet():\n",
        "  net = []\n",
        "  net.append(random.randint(0,1)) #Делаем или нет нормализацию\n",
        "  net.append(random.randint(3,7)) #Первый свёрточный слой от 8 до 128 нейронов\n",
        "  net.append(random.randint(3,8)) #Ядро первого свёрточного слоя от 3 до 8\n",
        "  net.append(random.randint(0,4)) # Функция активации первого слоя\n",
        "  net.append(random.randint(0,1)) #Делаем ли MaxPooling\n",
        "  net.append(random.randint(2,3)) #Размер MaxPooling\n",
        "\n",
        "  net.append(random.randint(0,1)) # Сколько делаем еще сверточных слоев\n",
        "  net.append(random.randint(3,8)) # Второй свёрточный слой от 8 до 256 нейронов\n",
        "  net.append(random.randint(3,7)) # Ядро второго свёрточного слоя от 3 до 7\n",
        "  net.append(random.randint(0,1)) # Делаем ли MaxPooling\n",
        "  net.append(random.randint(2,3)) # Размер MaxPooling\n",
        "  net.append(random.randint(0,4)) # Функция активации второго слоя\n",
        "\n",
        "  net.append(random.randint(0,1)) # Сколько делаем еще сверточных слоев\n",
        "  net.append(random.randint(3,7)) # Второй свёрточный слой от 8 до 128 нейронов\n",
        "  net.append(random.randint(3,8)) # Ядро второго свёрточного слоя от 3 до 8\n",
        "  net.append(random.randint(0,1)) # Делаем ли MaxPooling\n",
        "  net.append(random.randint(2,3)) # Размер MaxPooling\n",
        "  net.append(random.randint(0,4)) # Функция активации второго слоя\n",
        "\n",
        "  net.append(random.randrange(1,2)) # Flatten, будет всегда давать единицу\n",
        "  net.append(random.randint(0,1)) # dense0, будет ли полносвязный слой\n",
        "  net.append(random.randint(4, 10)) # количество нейронов\n",
        "  net.append(random.randint(0, 4)) # активация первого слоя индекс 21\n",
        "  # второй полносвязный\n",
        "  net.append(random.randint(0, 1)) # dense1.  делаем или нет\n",
        "  net.append(random.randint(4, 8)) # количество нейронов\n",
        "  net.append(random.randint(0, 4)) # активация второго слоя индекс 24\n",
        "  # третий полносвязный\n",
        "  net.append(random.randint(0, 1)) # делаем или нет\n",
        "  net.append(random.randint(4, 10)) # количество нейронов\n",
        "  net.append(random.randint(0, 4)) # активация третьего слоя индекс 27\n",
        "\n",
        "  net.append(random.randint(0, 1)) # активация для выходного слоя индекс 28\n",
        "  net.append(random.randint(0, 4)) # финальная нормализация\n",
        "\n",
        "  #net.append(random.randint(0,1)) # Делаем ли финальную нормализацию слой\n",
        "  #net.append(random.randint(3,8)) # Размер полносвязного слоя от 8 до 256\n",
        "  \n",
        "  return net"
      ],
      "metadata": {
        "id": "AypIo_nMjwBM"
      },
      "execution_count": null,
      "outputs": []
    },
    {
      "cell_type": "markdown",
      "source": [
        "вычисление результата работы сети:"
      ],
      "metadata": {
        "id": "ghB2BhNjk7-i"
      }
    },
    {
      "cell_type": "code",
      "source": [
        "from tensorflow.python.ops.gen_sparse_ops import AddManySparseToTensorsMap\n",
        "from tensorflow.keras import optimizers\n",
        "def evaluateNet(net, ep, verb):\n",
        "  val = 0\n",
        "  time.time() # Засекаем время\n",
        "  model = createConvNet(net) # создаём модель из функции выше\n",
        "  model.compile(optimizer=Adam(lr=1e-4), loss='mse')\n",
        "  history = model.fit_generator(trainDataGen, epochs=5, verbose=verb, validation_data=testDataGen)\n",
        "  val = history.history['val_loss'][-1] # минус один-последнее значение\n",
        "  return val, model"
      ],
      "metadata": {
        "id": "7jpqO_cClG_K"
      },
      "execution_count": null,
      "outputs": []
    },
    {
      "cell_type": "markdown",
      "source": [
        "# Боты"
      ],
      "metadata": {
        "id": "xvdEZdHVp1yq"
      }
    },
    {
      "cell_type": "code",
      "source": [
        "n = 30 # число ботов\n",
        "nsurv = 10 # выжившие\n",
        "nnew = n - nsurv # cколько добивать\n",
        "l = 30 # размер бота, равный числу индексов архитектуры модели. см. выжившие\n",
        "epohs = 10 \n",
        "mut = 0.1 # мутация\n",
        "popul = [] #  создаём пустой массив популяций\n",
        "val = [] # одномерный массив ботов из популяций\n",
        "\n",
        "# cоздание случайных ботов\n",
        "for i in range(n):\n",
        "  popul.append(createRandomNet()) # добавляется 20 различных ботов из случайных значений функции createRandomNet\n",
        "\n",
        "for it in range(epohs): # Пробегаем по всем эпохам\n",
        "  val = []  # Обнуляем значения бота\n",
        "  curr_time = time.time() # начало отсчёта времени\n",
        "  for i in range(n):  # Пробегаем в цикле по всем ботам \n",
        "    bot = popul[i]   # Берем очередного бота\n",
        "    f, model_sum = evaluateNet(bot, 3, 0) # Вычисляем точность текущего бота. Функция выше\n",
        "    val.append(f)  #  значение в список val\n",
        "  \n",
        "  sval = sorted(val, reverse=0)         # Сортируем val по возрастанию reverse=0\n",
        "  print(it, time.time() - curr_time, \" \", sval[0:5],popul[:5]) # 5 лучших\n",
        "  \n",
        "  newpopul = []  #  пустой список под новую популяцию\n",
        "  for i in range(nsurv): # Пробегаем по всем выжившим ботам\n",
        "    index = val.index(sval[i]) # Получаем индекс очередного бота из списка лучших в списке val\n",
        "    newpopul.append(popul[index]) # Добавляем в новую популяцию бота из popul с индексом index\n",
        "    \n",
        "  for i in range(nnew): # Проходимся в цикле nnew-раз. здесь 10 раз \n",
        "    indexp1 = random.randrange(0,nsurv) # Случайный индекс первого родителя в диапазоне от 0 до nsurv\n",
        "    indexp2 = random.randrange(0,nsurv) # Случайный индекс первого родителя в диапазоне от 0 до nsurv\n",
        "    botp1 = newpopul[indexp1]  # Получаем первого бота-родителя по indexp1\n",
        "    botp2 = newpopul[indexp2]   # Получаем второго бота-родителя по indexp2    \n",
        "    newbot = []   # Создаем пустой список под значения нового бота    \n",
        "    net4Mut = createRandomNet()         # Создаем случайную сеть для мутаций\n",
        "    for j in range(l):  # Пробегаем по всей длине размерности (22)      \n",
        "      x = 0      \n",
        "      pindex = random.random()  # Получаем случайное число в диапазоне от 0 до 1\n",
        "\n",
        "      # Если pindex меньше 0.5, то берем значения от первого бота, иначе от второго\n",
        "      if pindex < 0.5:\n",
        "        x = botp1[j]\n",
        "      else:\n",
        "        x = botp2[j]\n",
        "\n",
        "      # С вероятностью mut устанавливаем значение бота из net4Mut. Можно впихнуть это и в один цикл, через elif\n",
        "      if (random.random() < mut):\n",
        "        x = net4Mut[j]\n",
        "      newbot.append(x) #  и выходим из цикла\n",
        "    newpopul.append(newbot) # добиваем остатки к лучшим. и выходим из цикла \"for it in range(epohs)\" \n",
        "  popul = newpopul # из пустого списка,  список стал гиперпараметром"
      ],
      "metadata": {
        "colab": {
          "base_uri": "https://localhost:8080/"
        },
        "id": "IWKgeFd-p5gq",
        "outputId": "93e3e44d-c541-4110-fd11-d043876a9de4"
      },
      "execution_count": null,
      "outputs": [
        {
          "output_type": "stream",
          "name": "stderr",
          "text": [
            "/usr/local/lib/python3.7/dist-packages/keras/optimizer_v2/adam.py:105: UserWarning: The `lr` argument is deprecated, use `learning_rate` instead.\n",
            "  super(Adam, self).__init__(name, **kwargs)\n",
            "/usr/local/lib/python3.7/dist-packages/ipykernel_launcher.py:8: UserWarning: `Model.fit_generator` is deprecated and will be removed in a future version. Please use `Model.fit`, which supports generators.\n",
            "  \n"
          ]
        },
        {
          "output_type": "stream",
          "name": "stdout",
          "text": [
            "0 54.071070432662964   [0.011083305813372135, 0.01280076615512371, 0.042271506041288376, 0.06120356172323227, 0.06908769905567169] [[1, 7, 4, 1, 0, 3, 1, 6, 5, 1, 2, 2, 1, 4, 8, 1, 2, 3, 1, 0, 8, 3, 1, 4, 4, 1, 7, 0, 1, 4], [0, 5, 6, 4, 0, 3, 0, 3, 7, 0, 2, 1, 1, 7, 6, 0, 2, 1, 1, 1, 8, 4, 0, 6, 1, 0, 10, 1, 0, 3], [0, 5, 6, 2, 0, 2, 0, 5, 3, 0, 3, 2, 1, 5, 8, 0, 3, 3, 1, 1, 9, 2, 1, 5, 3, 0, 10, 0, 1, 4], [0, 5, 7, 1, 1, 2, 0, 4, 3, 1, 2, 4, 1, 3, 6, 0, 3, 2, 1, 0, 7, 3, 1, 5, 1, 0, 6, 4, 1, 2], [0, 4, 8, 3, 0, 3, 0, 8, 6, 1, 2, 1, 1, 6, 3, 1, 2, 3, 1, 0, 9, 1, 0, 4, 0, 0, 4, 4, 1, 0]]\n",
            "1 50.32929444313049   [0.015179797075688839, 0.02457636408507824, 0.025393608957529068, 0.0458584688603878, 0.05413768067955971] [[0, 7, 6, 0, 1, 2, 1, 4, 5, 1, 2, 0, 1, 4, 3, 0, 3, 1, 1, 0, 4, 4, 0, 8, 0, 1, 6, 2, 0, 0], [0, 3, 6, 4, 1, 3, 0, 8, 6, 1, 3, 0, 1, 6, 6, 0, 3, 0, 1, 1, 10, 2, 0, 5, 0, 0, 4, 0, 0, 0], [1, 5, 5, 2, 1, 2, 0, 5, 3, 0, 2, 4, 0, 7, 6, 0, 2, 4, 1, 0, 7, 1, 0, 8, 1, 0, 10, 2, 0, 3], [0, 6, 7, 3, 1, 2, 0, 8, 7, 1, 3, 4, 0, 4, 8, 1, 2, 3, 1, 1, 9, 0, 0, 6, 4, 1, 8, 0, 0, 4], [0, 6, 6, 4, 1, 2, 1, 8, 6, 0, 3, 4, 0, 4, 5, 0, 2, 0, 1, 0, 9, 1, 0, 6, 3, 0, 10, 4, 1, 4]]\n",
            "2 50.35785508155823   [0.02184307761490345, 0.022000551223754883, 0.030419614166021347, 0.03355855122208595, 0.042513929307460785] [[0, 7, 6, 0, 1, 2, 1, 4, 5, 1, 2, 0, 1, 4, 3, 0, 3, 1, 1, 0, 4, 4, 0, 8, 0, 1, 6, 2, 0, 0], [0, 3, 6, 0, 1, 2, 1, 7, 5, 1, 2, 0, 1, 4, 3, 0, 3, 1, 1, 0, 10, 4, 0, 5, 0, 0, 4, 2, 0, 0], [1, 5, 5, 2, 1, 2, 0, 5, 3, 0, 2, 4, 0, 7, 6, 0, 2, 4, 1, 0, 7, 1, 0, 8, 1, 0, 10, 2, 0, 3], [0, 6, 7, 3, 1, 2, 0, 8, 7, 1, 3, 4, 0, 4, 8, 1, 2, 3, 1, 1, 9, 0, 0, 6, 4, 1, 8, 0, 0, 4], [1, 6, 6, 2, 1, 2, 1, 8, 3, 0, 2, 4, 0, 7, 5, 0, 2, 0, 1, 0, 9, 1, 0, 6, 0, 0, 10, 4, 0, 3]]\n",
            "3 47.83679962158203   [0.005812712013721466, 0.007314376533031464, 0.009839583188295364, 0.016409719362854958, 0.022081276401877403] [[0, 3, 6, 0, 1, 2, 1, 7, 5, 1, 2, 0, 1, 4, 3, 0, 3, 1, 1, 0, 10, 4, 0, 5, 0, 0, 4, 2, 0, 0], [0, 7, 6, 0, 1, 2, 1, 4, 5, 1, 2, 0, 1, 4, 3, 0, 3, 1, 1, 0, 4, 4, 0, 8, 0, 1, 6, 2, 0, 0], [0, 4, 6, 0, 1, 3, 1, 4, 5, 1, 2, 0, 1, 6, 3, 0, 3, 1, 1, 0, 10, 2, 0, 8, 0, 0, 6, 0, 0, 0], [0, 3, 6, 4, 1, 3, 0, 8, 6, 1, 3, 0, 1, 6, 6, 0, 3, 0, 1, 1, 10, 2, 0, 5, 0, 0, 4, 0, 0, 0], [0, 7, 7, 1, 1, 2, 0, 4, 5, 1, 2, 4, 0, 6, 4, 1, 2, 1, 1, 0, 9, 3, 0, 6, 1, 1, 10, 2, 0, 4]]\n",
            "4 47.2066707611084   [0.00448549585416913, 0.005673188250511885, 0.005708558484911919, 0.00655016116797924, 0.009063223376870155] [[0, 3, 5, 0, 1, 2, 1, 8, 5, 1, 2, 0, 0, 4, 3, 0, 3, 1, 1, 0, 4, 4, 0, 8, 0, 1, 10, 2, 0, 0], [0, 3, 7, 0, 1, 2, 0, 8, 6, 1, 3, 2, 0, 4, 6, 0, 2, 3, 1, 0, 7, 4, 0, 8, 2, 1, 7, 0, 0, 0], [0, 3, 6, 0, 1, 2, 1, 7, 5, 1, 2, 0, 1, 4, 3, 0, 3, 1, 1, 0, 10, 4, 0, 5, 0, 0, 4, 2, 0, 0], [0, 3, 6, 0, 1, 2, 1, 4, 5, 1, 3, 0, 1, 5, 8, 0, 2, 1, 1, 0, 9, 4, 0, 5, 0, 1, 6, 0, 0, 0], [0, 4, 6, 0, 1, 3, 1, 4, 5, 1, 2, 0, 1, 6, 3, 0, 3, 1, 1, 0, 10, 2, 0, 8, 0, 0, 6, 0, 0, 0]]\n",
            "5 44.47334098815918   [0.005153803154826164, 0.005593686830252409, 0.005625154357403517, 0.006028579082340002, 0.006376759614795446] [[0, 5, 6, 0, 0, 2, 1, 8, 6, 1, 2, 2, 0, 4, 6, 0, 3, 4, 1, 0, 7, 4, 0, 8, 0, 1, 6, 2, 0, 0], [0, 3, 6, 0, 1, 2, 0, 8, 3, 1, 3, 0, 0, 4, 6, 0, 2, 1, 1, 0, 7, 4, 0, 8, 0, 1, 10, 2, 0, 0], [0, 7, 4, 0, 1, 2, 1, 8, 5, 1, 2, 0, 0, 7, 3, 0, 3, 1, 1, 0, 9, 4, 0, 5, 0, 1, 6, 2, 0, 0], [0, 3, 7, 0, 1, 2, 0, 8, 6, 1, 3, 2, 0, 4, 6, 0, 2, 3, 1, 0, 7, 4, 0, 8, 2, 1, 7, 0, 0, 0], [0, 3, 5, 0, 1, 2, 1, 8, 5, 1, 2, 0, 0, 4, 3, 0, 3, 1, 1, 0, 4, 4, 0, 8, 0, 1, 10, 2, 0, 0]]\n",
            "6 45.07551622390747   [0.005041653290390968, 0.005275352392345667, 0.005804205313324928, 0.005844165105372667, 0.0066614518873393536] [[0, 7, 4, 0, 1, 2, 1, 8, 5, 1, 2, 0, 0, 7, 3, 0, 3, 1, 1, 0, 9, 4, 0, 5, 0, 1, 6, 2, 0, 0], [0, 5, 6, 0, 0, 2, 1, 8, 6, 1, 2, 2, 0, 4, 6, 0, 3, 4, 1, 0, 7, 4, 0, 8, 0, 1, 6, 2, 0, 0], [0, 5, 6, 0, 0, 2, 1, 8, 6, 1, 2, 2, 0, 7, 6, 1, 3, 4, 1, 0, 9, 4, 0, 5, 0, 1, 6, 2, 0, 0], [0, 3, 6, 0, 0, 2, 1, 4, 5, 1, 2, 0, 1, 5, 3, 0, 3, 1, 1, 0, 4, 4, 0, 8, 0, 1, 7, 2, 0, 0], [0, 3, 7, 0, 1, 2, 0, 8, 6, 1, 3, 2, 0, 4, 6, 0, 2, 3, 1, 0, 7, 4, 0, 8, 2, 1, 7, 0, 0, 0]]\n",
            "7 43.56139039993286   [0.004149932414293289, 0.004670937545597553, 0.0047458745539188385, 0.005547363311052322, 0.0056313518434762955] [[0, 3, 5, 0, 1, 2, 1, 4, 5, 1, 2, 0, 0, 5, 8, 0, 3, 1, 1, 0, 9, 4, 0, 6, 0, 1, 10, 2, 0, 0], [0, 5, 5, 2, 0, 2, 1, 8, 6, 1, 2, 0, 0, 7, 3, 1, 3, 1, 1, 0, 9, 4, 0, 5, 0, 1, 6, 2, 0, 0], [0, 5, 5, 0, 1, 2, 1, 8, 5, 1, 2, 0, 0, 4, 3, 0, 3, 1, 1, 0, 4, 4, 0, 8, 0, 1, 10, 2, 0, 0], [0, 7, 4, 0, 1, 2, 1, 8, 5, 1, 2, 0, 0, 7, 3, 0, 3, 1, 1, 0, 9, 4, 0, 5, 0, 1, 6, 2, 0, 0], [0, 5, 6, 0, 0, 2, 1, 8, 6, 1, 2, 2, 0, 4, 6, 0, 3, 4, 1, 0, 9, 4, 0, 5, 0, 1, 6, 2, 0, 0]]\n",
            "8 44.75463652610779   [0.004495266359299421, 0.004845588933676481, 0.004845783114433289, 0.004923195578157902, 0.0052754743956029415] [[0, 5, 6, 0, 0, 2, 1, 8, 6, 1, 2, 2, 0, 4, 6, 0, 3, 4, 1, 0, 9, 4, 0, 5, 0, 1, 6, 2, 0, 0], [0, 5, 6, 0, 0, 2, 1, 8, 6, 1, 2, 2, 0, 4, 6, 0, 3, 4, 1, 0, 7, 4, 0, 8, 0, 1, 6, 2, 0, 0], [0, 5, 5, 0, 1, 2, 1, 8, 5, 1, 2, 0, 0, 4, 3, 0, 3, 1, 1, 0, 4, 4, 0, 8, 0, 1, 10, 2, 0, 0], [0, 5, 5, 2, 0, 2, 1, 8, 6, 1, 2, 0, 0, 7, 3, 1, 3, 1, 1, 0, 9, 4, 0, 5, 0, 1, 6, 2, 0, 0], [0, 7, 6, 0, 1, 2, 1, 8, 6, 1, 2, 2, 0, 7, 7, 0, 3, 4, 1, 0, 9, 4, 0, 8, 0, 1, 6, 2, 0, 0]]\n",
            "9 43.79865884780884   [0.004987885244190693, 0.0050098891369998455, 0.005320567172020674, 0.005514542572200298, 0.005552127491682768] [[0, 5, 7, 0, 0, 2, 1, 8, 6, 1, 2, 2, 0, 7, 6, 1, 3, 4, 1, 0, 9, 4, 0, 5, 0, 1, 7, 2, 0, 0], [0, 5, 6, 0, 0, 2, 1, 8, 6, 1, 2, 2, 0, 4, 6, 0, 3, 4, 1, 0, 9, 4, 0, 5, 0, 1, 6, 2, 0, 0], [0, 5, 5, 0, 1, 2, 1, 8, 5, 1, 2, 0, 0, 4, 3, 0, 3, 1, 1, 0, 4, 4, 0, 8, 0, 1, 10, 2, 0, 0], [0, 5, 5, 1, 1, 2, 0, 8, 7, 1, 3, 0, 0, 4, 6, 0, 3, 1, 1, 0, 4, 4, 0, 8, 0, 1, 10, 0, 0, 0], [0, 5, 5, 0, 1, 2, 1, 8, 5, 0, 2, 0, 0, 4, 3, 0, 3, 4, 1, 0, 9, 4, 0, 5, 0, 1, 8, 2, 0, 0]]\n"
          ]
        }
      ]
    },
    {
      "cell_type": "code",
      "source": [
        "model = createConvNet(popul[0])\n",
        "model.summary()"
      ],
      "metadata": {
        "colab": {
          "base_uri": "https://localhost:8080/"
        },
        "id": "zD948ZFhB9pY",
        "outputId": "e6baeaa7-211c-49a2-a4d2-23f1d1c16e84"
      },
      "execution_count": null,
      "outputs": [
        {
          "output_type": "stream",
          "name": "stdout",
          "text": [
            "Model: \"sequential_601\"\n",
            "_________________________________________________________________\n",
            " Layer (type)                Output Shape              Param #   \n",
            "=================================================================\n",
            " conv1d_1205 (Conv1D)        (None, 60, 32)            256       \n",
            "                                                                 \n",
            " conv1d_1206 (Conv1D)        (None, 60, 256)           49408     \n",
            "                                                                 \n",
            " max_pooling1d_690 (MaxPooli  (None, 30, 256)          0         \n",
            " ng1D)                                                           \n",
            "                                                                 \n",
            " flatten_601 (Flatten)       (None, 7680)              0         \n",
            "                                                                 \n",
            " dense_2434 (Dense)          (None, 128)               983168    \n",
            "                                                                 \n",
            " dense_2435 (Dense)          (None, 128)               16512     \n",
            "                                                                 \n",
            " dense_2436 (Dense)          (None, 128)               16512     \n",
            "                                                                 \n",
            " dense_2437 (Dense)          (None, 1)                 129       \n",
            "                                                                 \n",
            "=================================================================\n",
            "Total params: 1,065,985\n",
            "Trainable params: 1,065,985\n",
            "Non-trainable params: 0\n",
            "_________________________________________________________________\n"
          ]
        }
      ]
    },
    {
      "cell_type": "code",
      "source": [
        "plot_model(model)"
      ],
      "metadata": {
        "colab": {
          "base_uri": "https://localhost:8080/",
          "height": 856
        },
        "id": "ZpFd5WBoCgnm",
        "outputId": "d013b791-9434-460c-f5d4-fff082c96770"
      },
      "execution_count": null,
      "outputs": [
        {
          "output_type": "execute_result",
          "data": {
            "image/png": "[encoded data removed]",
            "text/plain": [
              "<IPython.core.display.Image object>"
            ]
          },
          "metadata": {},
          "execution_count": 46
        }
      ]
    },
    {
      "cell_type": "markdown",
      "source": [
        "странно, но сработал"
      ],
      "metadata": {
        "id": "45XNh3pCHhRG"
      }
    },
    {
      "cell_type": "code",
      "source": [
        "model.compile(loss='mse', optimizer=Adam(learning_rate=1e-4))"
      ],
      "metadata": {
        "id": "5fYFZyC2DJ_v"
      },
      "execution_count": null,
      "outputs": []
    },
    {
      "cell_type": "code",
      "source": [
        "history = model.fit_generator(trainDataGen, epochs=100, validation_data=testDataGen)"
      ],
      "metadata": {
        "colab": {
          "base_uri": "https://localhost:8080/"
        },
        "id": "Y70UUwVyCrfy",
        "outputId": "082116c7-31f3-4ea5-da77-a1297a63c580"
      },
      "execution_count": null,
      "outputs": [
        {
          "output_type": "stream",
          "name": "stderr",
          "text": [
            "/usr/local/lib/python3.7/dist-packages/ipykernel_launcher.py:1: UserWarning: `Model.fit_generator` is deprecated and will be removed in a future version. Please use `Model.fit`, which supports generators.\n",
            "  \"\"\"Entry point for launching an IPython kernel.\n"
          ]
        },
        {
          "output_type": "stream",
          "name": "stdout",
          "text": [
            "Epoch 1/100\n",
            "37/37 [==============================] - 1s 7ms/step - loss: 0.0307 - val_loss: 0.0290\n",
            "Epoch 2/100\n",
            "37/37 [==============================] - 0s 4ms/step - loss: 0.0138 - val_loss: 0.0236\n",
            "Epoch 3/100\n",
            "37/37 [==============================] - 0s 4ms/step - loss: 0.0171 - val_loss: 0.0060\n",
            "Epoch 4/100\n",
            "37/37 [==============================] - 0s 4ms/step - loss: 0.0062 - val_loss: 0.0093\n",
            "Epoch 5/100\n",
            "37/37 [==============================] - 0s 4ms/step - loss: 0.0088 - val_loss: 0.0083\n",
            "Epoch 6/100\n",
            "37/37 [==============================] - 0s 4ms/step - loss: 0.0071 - val_loss: 0.0056\n",
            "Epoch 7/100\n",
            "37/37 [==============================] - 0s 5ms/step - loss: 0.0051 - val_loss: 0.0042\n",
            "Epoch 8/100\n",
            "37/37 [==============================] - 0s 5ms/step - loss: 0.0045 - val_loss: 0.0041\n",
            "Epoch 9/100\n",
            "37/37 [==============================] - 0s 4ms/step - loss: 0.0039 - val_loss: 0.0040\n",
            "Epoch 10/100\n",
            "37/37 [==============================] - 0s 4ms/step - loss: 0.0034 - val_loss: 0.0037\n",
            "Epoch 11/100\n",
            "37/37 [==============================] - 0s 4ms/step - loss: 0.0031 - val_loss: 0.0045\n",
            "Epoch 12/100\n",
            "37/37 [==============================] - 0s 4ms/step - loss: 0.0036 - val_loss: 0.0034\n",
            "Epoch 13/100\n",
            "37/37 [==============================] - 0s 4ms/step - loss: 0.0036 - val_loss: 0.0035\n",
            "Epoch 14/100\n",
            "37/37 [==============================] - 0s 4ms/step - loss: 0.0027 - val_loss: 0.0032\n",
            "Epoch 15/100\n",
            "37/37 [==============================] - 0s 4ms/step - loss: 0.0029 - val_loss: 0.0032\n",
            "Epoch 16/100\n",
            "37/37 [==============================] - 0s 4ms/step - loss: 0.0029 - val_loss: 0.0044\n",
            "Epoch 17/100\n",
            "37/37 [==============================] - 0s 4ms/step - loss: 0.0026 - val_loss: 0.0036\n",
            "Epoch 18/100\n",
            "37/37 [==============================] - 0s 4ms/step - loss: 0.0025 - val_loss: 0.0029\n",
            "Epoch 19/100\n",
            "37/37 [==============================] - 0s 4ms/step - loss: 0.0024 - val_loss: 0.0039\n",
            "Epoch 20/100\n",
            "37/37 [==============================] - 0s 4ms/step - loss: 0.0029 - val_loss: 0.0028\n",
            "Epoch 21/100\n",
            "37/37 [==============================] - 0s 4ms/step - loss: 0.0024 - val_loss: 0.0028\n",
            "Epoch 22/100\n",
            "37/37 [==============================] - 0s 4ms/step - loss: 0.0026 - val_loss: 0.0027\n",
            "Epoch 23/100\n",
            "37/37 [==============================] - 0s 4ms/step - loss: 0.0022 - val_loss: 0.0032\n",
            "Epoch 24/100\n",
            "37/37 [==============================] - 0s 5ms/step - loss: 0.0023 - val_loss: 0.0026\n",
            "Epoch 25/100\n",
            "37/37 [==============================] - 0s 5ms/step - loss: 0.0028 - val_loss: 0.0027\n",
            "Epoch 26/100\n",
            "37/37 [==============================] - 0s 4ms/step - loss: 0.0026 - val_loss: 0.0025\n",
            "Epoch 27/100\n",
            "37/37 [==============================] - 0s 4ms/step - loss: 0.0026 - val_loss: 0.0035\n",
            "Epoch 28/100\n",
            "37/37 [==============================] - 0s 4ms/step - loss: 0.0026 - val_loss: 0.0030\n",
            "Epoch 29/100\n",
            "37/37 [==============================] - 0s 5ms/step - loss: 0.0022 - val_loss: 0.0024\n",
            "Epoch 30/100\n",
            "37/37 [==============================] - 0s 4ms/step - loss: 0.0022 - val_loss: 0.0037\n",
            "Epoch 31/100\n",
            "37/37 [==============================] - 0s 4ms/step - loss: 0.0030 - val_loss: 0.0025\n",
            "Epoch 32/100\n",
            "37/37 [==============================] - 0s 4ms/step - loss: 0.0024 - val_loss: 0.0025\n",
            "Epoch 33/100\n",
            "37/37 [==============================] - 0s 4ms/step - loss: 0.0022 - val_loss: 0.0035\n",
            "Epoch 34/100\n",
            "37/37 [==============================] - 0s 5ms/step - loss: 0.0024 - val_loss: 0.0025\n",
            "Epoch 35/100\n",
            "37/37 [==============================] - 0s 5ms/step - loss: 0.0029 - val_loss: 0.0042\n",
            "Epoch 36/100\n",
            "37/37 [==============================] - 0s 4ms/step - loss: 0.0023 - val_loss: 0.0023\n",
            "Epoch 37/100\n",
            "37/37 [==============================] - 0s 5ms/step - loss: 0.0024 - val_loss: 0.0073\n",
            "Epoch 38/100\n",
            "37/37 [==============================] - 0s 5ms/step - loss: 0.0022 - val_loss: 0.0024\n",
            "Epoch 39/100\n",
            "37/37 [==============================] - 0s 4ms/step - loss: 0.0019 - val_loss: 0.0023\n",
            "Epoch 40/100\n",
            "37/37 [==============================] - 0s 5ms/step - loss: 0.0020 - val_loss: 0.0026\n",
            "Epoch 41/100\n",
            "37/37 [==============================] - 0s 4ms/step - loss: 0.0019 - val_loss: 0.0024\n",
            "Epoch 42/100\n",
            "37/37 [==============================] - 0s 5ms/step - loss: 0.0019 - val_loss: 0.0023\n",
            "Epoch 43/100\n",
            "37/37 [==============================] - 0s 5ms/step - loss: 0.0021 - val_loss: 0.0035\n",
            "Epoch 44/100\n",
            "37/37 [==============================] - 0s 5ms/step - loss: 0.0019 - val_loss: 0.0027\n",
            "Epoch 45/100\n",
            "37/37 [==============================] - 0s 5ms/step - loss: 0.0019 - val_loss: 0.0027\n",
            "Epoch 46/100\n",
            "37/37 [==============================] - 0s 4ms/step - loss: 0.0018 - val_loss: 0.0024\n",
            "Epoch 47/100\n",
            "37/37 [==============================] - 0s 4ms/step - loss: 0.0018 - val_loss: 0.0024\n",
            "Epoch 48/100\n",
            "37/37 [==============================] - 0s 4ms/step - loss: 0.0019 - val_loss: 0.0024\n",
            "Epoch 49/100\n",
            "37/37 [==============================] - 0s 4ms/step - loss: 0.0021 - val_loss: 0.0033\n",
            "Epoch 50/100\n",
            "37/37 [==============================] - 0s 5ms/step - loss: 0.0023 - val_loss: 0.0027\n",
            "Epoch 51/100\n",
            "37/37 [==============================] - 0s 5ms/step - loss: 0.0036 - val_loss: 0.0078\n",
            "Epoch 52/100\n",
            "37/37 [==============================] - 0s 4ms/step - loss: 0.0034 - val_loss: 0.0035\n",
            "Epoch 53/100\n",
            "37/37 [==============================] - 0s 4ms/step - loss: 0.0027 - val_loss: 0.0030\n",
            "Epoch 54/100\n",
            "37/37 [==============================] - 0s 4ms/step - loss: 0.0018 - val_loss: 0.0024\n",
            "Epoch 55/100\n",
            "37/37 [==============================] - 0s 5ms/step - loss: 0.0017 - val_loss: 0.0029\n",
            "Epoch 56/100\n",
            "37/37 [==============================] - 0s 5ms/step - loss: 0.0017 - val_loss: 0.0024\n",
            "Epoch 57/100\n",
            "37/37 [==============================] - 0s 5ms/step - loss: 0.0019 - val_loss: 0.0027\n",
            "Epoch 58/100\n",
            "37/37 [==============================] - 0s 4ms/step - loss: 0.0018 - val_loss: 0.0024\n",
            "Epoch 59/100\n",
            "37/37 [==============================] - 0s 4ms/step - loss: 0.0017 - val_loss: 0.0022\n",
            "Epoch 60/100\n",
            "37/37 [==============================] - 0s 4ms/step - loss: 0.0016 - val_loss: 0.0023\n",
            "Epoch 61/100\n",
            "37/37 [==============================] - 0s 5ms/step - loss: 0.0017 - val_loss: 0.0025\n",
            "Epoch 62/100\n",
            "37/37 [==============================] - 0s 5ms/step - loss: 0.0017 - val_loss: 0.0024\n",
            "Epoch 63/100\n",
            "37/37 [==============================] - 0s 5ms/step - loss: 0.0016 - val_loss: 0.0024\n",
            "Epoch 64/100\n",
            "37/37 [==============================] - 0s 4ms/step - loss: 0.0023 - val_loss: 0.0043\n",
            "Epoch 65/100\n",
            "37/37 [==============================] - 0s 4ms/step - loss: 0.0018 - val_loss: 0.0024\n",
            "Epoch 66/100\n",
            "37/37 [==============================] - 0s 4ms/step - loss: 0.0016 - val_loss: 0.0022\n",
            "Epoch 67/100\n",
            "37/37 [==============================] - 0s 4ms/step - loss: 0.0015 - val_loss: 0.0029\n",
            "Epoch 68/100\n",
            "37/37 [==============================] - 0s 4ms/step - loss: 0.0015 - val_loss: 0.0028\n",
            "Epoch 69/100\n",
            "37/37 [==============================] - 0s 4ms/step - loss: 0.0015 - val_loss: 0.0022\n",
            "Epoch 70/100\n",
            "37/37 [==============================] - 0s 4ms/step - loss: 0.0016 - val_loss: 0.0023\n",
            "Epoch 71/100\n",
            "37/37 [==============================] - 0s 5ms/step - loss: 0.0017 - val_loss: 0.0022\n",
            "Epoch 72/100\n",
            "37/37 [==============================] - 0s 5ms/step - loss: 0.0015 - val_loss: 0.0026\n",
            "Epoch 73/100\n",
            "37/37 [==============================] - 0s 4ms/step - loss: 0.0015 - val_loss: 0.0031\n",
            "Epoch 74/100\n",
            "37/37 [==============================] - 0s 4ms/step - loss: 0.0015 - val_loss: 0.0024\n",
            "Epoch 75/100\n",
            "37/37 [==============================] - 0s 4ms/step - loss: 0.0015 - val_loss: 0.0021\n",
            "Epoch 76/100\n",
            "37/37 [==============================] - 0s 4ms/step - loss: 0.0017 - val_loss: 0.0045\n",
            "Epoch 77/100\n",
            "37/37 [==============================] - 0s 5ms/step - loss: 0.0015 - val_loss: 0.0022\n",
            "Epoch 78/100\n",
            "37/37 [==============================] - 0s 4ms/step - loss: 0.0014 - val_loss: 0.0031\n",
            "Epoch 79/100\n",
            "37/37 [==============================] - 0s 4ms/step - loss: 0.0015 - val_loss: 0.0022\n",
            "Epoch 80/100\n",
            "37/37 [==============================] - 0s 4ms/step - loss: 0.0014 - val_loss: 0.0022\n",
            "Epoch 81/100\n",
            "37/37 [==============================] - 0s 4ms/step - loss: 0.0016 - val_loss: 0.0023\n",
            "Epoch 82/100\n",
            "37/37 [==============================] - 0s 4ms/step - loss: 0.0015 - val_loss: 0.0021\n",
            "Epoch 83/100\n",
            "37/37 [==============================] - 0s 5ms/step - loss: 0.0021 - val_loss: 0.0042\n",
            "Epoch 84/100\n",
            "37/37 [==============================] - 0s 4ms/step - loss: 0.0016 - val_loss: 0.0023\n",
            "Epoch 85/100\n",
            "37/37 [==============================] - 0s 4ms/step - loss: 0.0017 - val_loss: 0.0026\n",
            "Epoch 86/100\n",
            "37/37 [==============================] - 0s 4ms/step - loss: 0.0014 - val_loss: 0.0024\n",
            "Epoch 87/100\n",
            "37/37 [==============================] - 0s 4ms/step - loss: 0.0014 - val_loss: 0.0023\n",
            "Epoch 88/100\n",
            "37/37 [==============================] - 0s 5ms/step - loss: 0.0023 - val_loss: 0.0024\n",
            "Epoch 89/100\n",
            "37/37 [==============================] - 0s 5ms/step - loss: 0.0019 - val_loss: 0.0055\n",
            "Epoch 90/100\n",
            "37/37 [==============================] - 0s 4ms/step - loss: 0.0020 - val_loss: 0.0024\n",
            "Epoch 91/100\n",
            "37/37 [==============================] - 0s 5ms/step - loss: 0.0013 - val_loss: 0.0023\n",
            "Epoch 92/100\n",
            "37/37 [==============================] - 0s 5ms/step - loss: 0.0013 - val_loss: 0.0022\n",
            "Epoch 93/100\n",
            "37/37 [==============================] - 0s 4ms/step - loss: 0.0014 - val_loss: 0.0030\n",
            "Epoch 94/100\n",
            "37/37 [==============================] - 0s 4ms/step - loss: 0.0024 - val_loss: 0.0023\n",
            "Epoch 95/100\n",
            "37/37 [==============================] - 0s 4ms/step - loss: 0.0014 - val_loss: 0.0023\n",
            "Epoch 96/100\n",
            "37/37 [==============================] - 0s 4ms/step - loss: 0.0014 - val_loss: 0.0024\n",
            "Epoch 97/100\n",
            "37/37 [==============================] - 0s 4ms/step - loss: 0.0013 - val_loss: 0.0022\n",
            "Epoch 98/100\n",
            "37/37 [==============================] - 0s 4ms/step - loss: 0.0013 - val_loss: 0.0023\n",
            "Epoch 99/100\n",
            "37/37 [==============================] - 0s 4ms/step - loss: 0.0013 - val_loss: 0.0028\n",
            "Epoch 100/100\n",
            "37/37 [==============================] - 0s 4ms/step - loss: 0.0013 - val_loss: 0.0023\n"
          ]
        }
      ]
    },
    {
      "cell_type": "markdown",
      "source": [
        "# Проверки"
      ],
      "metadata": {
        "id": "RnZXeFyqEwpE"
      }
    },
    {
      "cell_type": "code",
      "source": [
        "plt.plot(history.history['loss'], \n",
        "         label='Средняя абсолютная ошибка на обучающем наборе')\n",
        "plt.plot(history.history['val_loss'], \n",
        "         label='Средняя абсолютная ошибка на проверочном наборе')\n",
        "plt.ylabel('Средняя ошибка')\n",
        "plt.legend()\n",
        "plt.show()"
      ],
      "metadata": {
        "colab": {
          "base_uri": "https://localhost:8080/",
          "height": 265
        },
        "id": "vB6to9KjDo-Z",
        "outputId": "7782d42b-17e6-4199-9281-95945747105b"
      },
      "execution_count": null,
      "outputs": [
        {
          "output_type": "display_data",
          "data": {
            "image/png": "[encoded data removed]",
            "text/plain": [
              "<Figure size 432x288 with 1 Axes>"
            ]
          },
          "metadata": {
            "needs_background": "light"
          }
        }
      ]
    },
    {
      "cell_type": "code",
      "source": [
        "currModel = model # модель которую обучали\n",
        "(predVal, yValUnscaled) = getPred(currModel, xVal[0], yVal[0], Scaler) # ф-ция прогноз. см на самом верху getPred()"
      ],
      "metadata": {
        "id": "vP0VdYzBEZTh"
      },
      "execution_count": null,
      "outputs": []
    },
    {
      "cell_type": "code",
      "source": [
        "showPredict(0, 400, 0, predVal, yValUnscaled)# напоминалка showPredict(start, step, channel, predVal, yValUnscaled) "
      ],
      "metadata": {
        "colab": {
          "base_uri": "https://localhost:8080/",
          "height": 265
        },
        "id": "kz7fc7a8Ebd2",
        "outputId": "8aa7f5dd-67ab-40d5-f456-3531d560ee47"
      },
      "execution_count": null,
      "outputs": [
        {
          "output_type": "display_data",
          "data": {
            "image/png": "[encoded data removed]",
            "text/plain": [
              "<Figure size 432x288 with 1 Axes>"
            ]
          },
          "metadata": {
            "needs_background": "light"
          }
        }
      ]
    },
    {
      "cell_type": "code",
      "source": [
        "autoCorr([0], 20, predVal, yValUnscaled)"
      ],
      "metadata": {
        "colab": {
          "base_uri": "https://localhost:8080/",
          "height": 279
        },
        "id": "t1LfQgQsF8qi",
        "outputId": "262edf32-583f-44a6-e5bf-1fc7b2683f12"
      },
      "execution_count": null,
      "outputs": [
        {
          "output_type": "display_data",
          "data": {
            "image/png": "[encoded data removed]",
            "text/plain": [
              "<Figure size 432x288 with 1 Axes>"
            ]
          },
          "metadata": {
            "needs_background": "light"
          }
        }
      ]
    },
    {
      "cell_type": "markdown",
      "source": [
        "**Вывод:** меня изматал синтаксис. А по заданию, модель запускал 5 раз, и всегда разные получались. Поставил жёстко  Flatten,  лишь добавил randrange(1,2).  Всегда единица. Выход не стал менять. Задание взято из Ультра Лайт, и чуток переделано. Прикольно с пятого раза выдало, было намного меньше слоёв и меньше параметров, а показывало лучше. Есть косяк в последнем предложении задания. Если надо переделаю. "
      ],
      "metadata": {
        "id": "V5stttLi5T6S"
      }
    }
  ]
}